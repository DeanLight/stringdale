{
 "cells": [
  {
   "cell_type": "markdown",
   "metadata": {},
   "source": [
    "# Basic Diagram Examples"
   ]
  },
  {
   "cell_type": "code",
   "execution_count": null,
   "metadata": {},
   "outputs": [],
   "source": [
    "#| default_exp serialize"
   ]
  },
  {
   "cell_type": "code",
   "execution_count": null,
   "metadata": {},
   "outputs": [
    {
     "name": "stdout",
     "output_type": "stream",
     "text": [
      "The autoreload extension is already loaded. To reload it, use:\n",
      "  %reload_ext autoreload\n"
     ]
    }
   ],
   "source": [
    "# | hide\n",
    "%load_ext autoreload\n",
    "%autoreload 2"
   ]
  },
  {
   "cell_type": "markdown",
   "metadata": {},
   "source": [
    "\n",
    "## Imports"
   ]
  },
  {
   "cell_type": "code",
   "execution_count": null,
   "metadata": {},
   "outputs": [],
   "source": [
    "#| export\n",
    "import os\n",
    "\n",
    "from networkx.readwrite import json_graph\n",
    "import json\n",
    "from typing import Any\n",
    "\n",
    "from stringdale.diagrams import (\n",
    "    Define,\n",
    "    Scope,\n",
    "    V,\n",
    "    E,\n",
    "    draw_diagram\n",
    ")\n",
    "from stringdale.core import  checkLogs\n",
    "from stringdale.viz import draw_nx\n",
    "\n",
    "from stringdale.diagrams import _get_func_name,Diagram,DiagramSchema"
   ]
  },
  {
   "cell_type": "code",
   "execution_count": null,
   "metadata": {},
   "outputs": [
    {
     "data": {
      "text/markdown": [
       "```mermaid\n",
       "---\n",
       "title: multiedge\n",
       "---\n",
       "flowchart LR;\n",
       "node0[\"plus[plus]\"]\n",
       "node1[\"Start\"]\n",
       "node2[\"End\"]\n",
       "node0 --> node2\n",
       "node1 -->|\"a-#gt;x,b-#gt;y\"| node0\n",
       "```"
      ],
      "text/plain": [
       "<IPython.core.display.Markdown object>"
      ]
     },
     "metadata": {},
     "output_type": "display_data"
    }
   ],
   "source": [
    "def plus(x,y):\n",
    "    return x+y\n",
    "\n",
    "# EXPLAIN start and end are by default\n",
    "# with checkLogs(name='__main__'):\n",
    "with Define('multiedge',type='flow') as D:\n",
    "\n",
    "    V('plus',plus,\n",
    "        inputs=[\n",
    "        'Start(x=a,y=b)',\n",
    "        ],\n",
    "        outputs=['End']\n",
    "        )\n",
    "    \n"
   ]
  },
  {
   "cell_type": "code",
   "execution_count": null,
   "metadata": {},
   "outputs": [
    {
     "data": {
      "text/markdown": [
       "```mermaid\n",
       "\n",
       "flowchart TB\n",
       "plus[\"plus\n",
       "func=#lt;function plus at 0x1134afec0#gt;, regular_fathers={#quot;Start#quot;}, for_each_fathers=set(), mapping={#quot;Start#quot;: {#quot;x#quot;: (#quot;a#quot;,), #quot;y#quot;: (#quot;b#quot;,)}}\"]\n",
       "Start[\"Start\n",
       "regular_fathers=set(), for_each_fathers=set(), mapping={}\"]\n",
       "End[\"End\n",
       "regular_fathers={#quot;plus#quot;}, for_each_fathers=set(), mapping={#quot;plus#quot;: {0: (#quot;.#quot;,)}}\"]\n",
       "plus -->|\"type=#lt;DiagramType.flow: #quot;flow#quot;#gt;, mapping={0: (#quot;.#quot;,)}\"| End\n",
       "Start -->|\"type=#lt;DiagramType.flow: #quot;flow#quot;#gt;, mapping={#quot;x#quot;: (#quot;a#quot;,), #quot;y#quot;: (#quot;b#quot;,)}\"| plus\n",
       "\n",
       "```"
      ],
      "text/plain": [
       "<IPython.core.display.Markdown object>"
      ]
     },
     "metadata": {},
     "output_type": "display_data"
    }
   ],
   "source": [
    "draw_nx(D.graph)"
   ]
  },
  {
   "cell_type": "code",
   "execution_count": null,
   "metadata": {},
   "outputs": [
    {
     "data": {
      "text/plain": [
       "{'directed': True,\n",
       " 'multigraph': False,\n",
       " 'graph': {},\n",
       " 'nodes': [{'func': <function __main__.plus(x, y)>,\n",
       "   'regular_fathers': {'Start'},\n",
       "   'for_each_fathers': set(),\n",
       "   'mapping': {'Start': {'x': ('a',), 'y': ('b',)}},\n",
       "   'id': 'plus'},\n",
       "  {'regular_fathers': set(),\n",
       "   'for_each_fathers': set(),\n",
       "   'mapping': {},\n",
       "   'id': 'Start'},\n",
       "  {'regular_fathers': {'plus'},\n",
       "   'for_each_fathers': set(),\n",
       "   'mapping': {'plus': {0: ('.',)}},\n",
       "   'id': 'End'}],\n",
       " 'edges': [{'type': <DiagramType.flow: 'flow'>,\n",
       "   'mapping': {0: ('.',)},\n",
       "   'source': 'plus',\n",
       "   'target': 'End'},\n",
       "  {'type': <DiagramType.flow: 'flow'>,\n",
       "   'mapping': {'x': ('a',), 'y': ('b',)},\n",
       "   'source': 'Start',\n",
       "   'target': 'plus'}]}"
      ]
     },
     "execution_count": null,
     "metadata": {},
     "output_type": "execute_result"
    }
   ],
   "source": [
    "node_link_data = json_graph.node_link_data(D.graph,edges='edges')\n",
    "node_link_data"
   ]
  },
  {
   "cell_type": "code",
   "execution_count": null,
   "metadata": {},
   "outputs": [],
   "source": [
    "#| export\n",
    "class Encoder(json.JSONEncoder):\n",
    "    def default(self, obj: Any) -> str:\n",
    "        # Handle objects that json.JSONEncoder doesn't know how to serialize\n",
    "        try:\n",
    "            # First try the default encoder\n",
    "            return super().default(obj)\n",
    "        except TypeError:\n",
    "            # If that fails, convert to string\n",
    "            if isinstance(obj,(Diagram,DiagramSchema)):\n",
    "                return str(obj)\n",
    "            elif isinstance(obj,set):\n",
    "                return list(obj)\n",
    "            elif isinstance(obj,tuple):\n",
    "                return list(obj)\n",
    "            elif callable(obj):\n",
    "                return _get_func_name(obj)\n",
    "            else:\n",
    "                return str(obj)\n",
    "\n",
    "# Example usage:\n",
    "def serialize_to_json(obj: Any) -> str:\n",
    "    return json.dumps(obj, cls=Encoder,indent=2)"
   ]
  },
  {
   "cell_type": "code",
   "execution_count": null,
   "metadata": {},
   "outputs": [
    {
     "name": "stdout",
     "output_type": "stream",
     "text": [
      "{\n",
      "  \"directed\": true,\n",
      "  \"multigraph\": false,\n",
      "  \"graph\": {},\n",
      "  \"nodes\": [\n",
      "    {\n",
      "      \"func\": \"plus\",\n",
      "      \"regular_fathers\": [\n",
      "        \"Start\"\n",
      "      ],\n",
      "      \"for_each_fathers\": [],\n",
      "      \"mapping\": {\n",
      "        \"Start\": {\n",
      "          \"x\": [\n",
      "            \"a\"\n",
      "          ],\n",
      "          \"y\": [\n",
      "            \"b\"\n",
      "          ]\n",
      "        }\n",
      "      },\n",
      "      \"id\": \"plus\"\n",
      "    },\n",
      "    {\n",
      "      \"regular_fathers\": [],\n",
      "      \"for_each_fathers\": [],\n",
      "      \"mapping\": {},\n",
      "      \"id\": \"Start\"\n",
      "    },\n",
      "    {\n",
      "      \"regular_fathers\": [\n",
      "        \"plus\"\n",
      "      ],\n",
      "      \"for_each_fathers\": [],\n",
      "      \"mapping\": {\n",
      "        \"plus\": {\n",
      "          \"0\": [\n",
      "            \".\"\n",
      "          ]\n",
      "        }\n",
      "      },\n",
      "      \"id\": \"End\"\n",
      "    }\n",
      "  ],\n",
      "  \"edges\": [\n",
      "    {\n",
      "      \"type\": \"DiagramType.flow\",\n",
      "      \"mapping\": {\n",
      "        \"0\": [\n",
      "          \".\"\n",
      "        ]\n",
      "      },\n",
      "      \"source\": \"plus\",\n",
      "      \"target\": \"End\"\n",
      "    },\n",
      "    {\n",
      "      \"type\": \"DiagramType.flow\",\n",
      "      \"mapping\": {\n",
      "        \"x\": [\n",
      "          \"a\"\n",
      "        ],\n",
      "        \"y\": [\n",
      "          \"b\"\n",
      "        ]\n",
      "      },\n",
      "      \"source\": \"Start\",\n",
      "      \"target\": \"plus\"\n",
      "    }\n",
      "  ]\n",
      "}\n"
     ]
    }
   ],
   "source": [
    "print(serialize_to_json(node_link_data))"
   ]
  },
  {
   "cell_type": "markdown",
   "metadata": {},
   "source": [
    "## Export"
   ]
  },
  {
   "cell_type": "code",
   "execution_count": null,
   "metadata": {},
   "outputs": [],
   "source": [
    "# |hide\n",
    "import nbdev; nbdev.nbdev_export()"
   ]
  }
 ],
 "metadata": {
  "kernelspec": {
   "display_name": "python3",
   "language": "python",
   "name": "python3"
  }
 },
 "nbformat": 4,
 "nbformat_minor": 2
}
