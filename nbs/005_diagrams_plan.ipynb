{
 "cells": [
  {
   "cell_type": "markdown",
   "metadata": {},
   "source": [
    "# Diagrams"
   ]
  },
  {
   "cell_type": "code",
   "execution_count": null,
   "metadata": {},
   "outputs": [],
   "source": []
  },
  {
   "cell_type": "code",
   "execution_count": null,
   "metadata": {},
   "outputs": [],
   "source": []
  },
  {
   "cell_type": "code",
   "execution_count": null,
   "metadata": {},
   "outputs": [],
   "source": [
    "\"\"\"\n",
    "Change to stringdale - Done\n",
    "\n",
    "GithubCI check - Done\n",
    "\n",
    "Diagram Definition\n",
    "- schema and validation logic\n",
    "- factoring logic\n",
    "- need to add node to scope logic\n",
    "- need to add function in external dict for each of inspection\n",
    "- drawing module is here\n",
    "\n",
    "Diagram\n",
    "- no sub classing\n",
    "- just have a nested graph and run run methods\n",
    "- unit tests with hard coded graphs\n",
    "- accesses functions through dict\n",
    "- Anon diagrams have access to the father diagram, they access the function dict of the non anon ancestor\n",
    "- saves pointer to the definition\n",
    "- has draw function that points to the schema but with the new function dicts of the instance.\n",
    "\n",
    "Diagram Schema:\n",
    "- Declerative definition language here \n",
    "- simple wrapper around definition\n",
    "- has draw function seperate from definition\n",
    "- has instantiation of logic from definition.\n",
    "\n",
    "\n",
    "__init__\n",
    "- has definitions of all public interfaces so we just import for libname\n",
    "\n",
    "\"\"\"\n",
    "\n",
    "\n",
    "\"\"\"\n",
    "tutorial with examples\n",
    "\n",
    "basic - rag\n",
    "decision - explicit router , explicit interactive qa\n",
    "\n",
    "\n",
    "generics - dynamic routers, interactive qa via factory, DB with session via Define, adaptive rag via state\n",
    "\n",
    "\n",
    "\n",
    "\"\"\""
   ]
  },
  {
   "cell_type": "code",
   "execution_count": null,
   "metadata": {},
   "outputs": [],
   "source": []
  },
  {
   "cell_type": "markdown",
   "metadata": {},
   "source": [
    "## Export"
   ]
  },
  {
   "cell_type": "code",
   "execution_count": null,
   "metadata": {},
   "outputs": [],
   "source": [
    "# |hide\n",
    "import nbdev\n",
    "\n",
    "nbdev.nbdev_export()"
   ]
  }
 ],
 "metadata": {
  "kernelspec": {
   "display_name": "python3",
   "language": "python",
   "name": "python3"
  }
 },
 "nbformat": 4,
 "nbformat_minor": 2
}
