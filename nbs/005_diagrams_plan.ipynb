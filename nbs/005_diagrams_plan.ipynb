{
 "cells": [
  {
   "cell_type": "markdown",
   "metadata": {},
   "source": [
    "# Diagrams"
   ]
  },
  {
   "cell_type": "code",
   "execution_count": null,
   "metadata": {},
   "outputs": [],
   "source": []
  },
  {
   "cell_type": "code",
   "execution_count": null,
   "metadata": {},
   "outputs": [],
   "source": []
  },
  {
   "cell_type": "code",
   "execution_count": null,
   "metadata": {},
   "outputs": [],
   "source": [
    "\"\"\"\n",
    "Change to stringdale\n",
    "\n",
    "GithubCI check\n",
    "\n",
    "Diagram Definition\n",
    "- schema and validation logic\n",
    "- factoring logic\n",
    "\n",
    "- need to add node to scope logic\n",
    "- need to add function in external dict for each of inspection\n",
    "\n",
    "- drawing module is here\n",
    "\n",
    "Diagram\n",
    "- no sub classing\n",
    "- just have a nested graph and run run methods\n",
    "- unit tests with hard coded graphs\n",
    "- accesses functions through dict\n",
    "- saves pointer to the definition\n",
    "- has draw function that points to the schema but with the new function dicts of the instance.\n",
    "\n",
    "Diagram Schema:\n",
    "- simple wrapper around definition\n",
    "- has draw function \n",
    "- has instantiation of logic from definition.\n",
    "\n",
    "\n",
    "__init__\n",
    "- has definitions of all public interfaces so we just import for libname\n",
    "\n",
    "\"\"\""
   ]
  },
  {
   "cell_type": "code",
   "execution_count": null,
   "metadata": {},
   "outputs": [],
   "source": []
  },
  {
   "cell_type": "code",
   "execution_count": null,
   "metadata": {},
   "outputs": [
    {
     "name": "stdout",
     "output_type": "stream",
     "text": [
      "Collecting pypi-check\n",
      "  Downloading pypi-check-0.1.1.tar.gz (1.7 kB)\n",
      "  Preparing metadata (setup.py) ... \u001b[?25ldone\n",
      "\u001b[?25hCollecting future (from pypi-check)\n",
      "  Downloading future-1.0.0-py3-none-any.whl.metadata (4.0 kB)\n",
      "Collecting pypilist (from pypi-check)\n",
      "  Downloading pypilist-0.1.0.tar.gz (343 kB)\n",
      "  Preparing metadata (setup.py) ... \u001b[?25ldone\n",
      "\u001b[?25hCollecting blessings (from pypi-check)\n",
      "  Downloading blessings-1.7-py3-none-any.whl.metadata (19 kB)\n",
      "Requirement already satisfied: six in /Users/dean/miniconda3/envs/ladle_test/lib/python3.12/site-packages (from blessings->pypi-check) (1.17.0)\n",
      "Downloading blessings-1.7-py3-none-any.whl (18 kB)\n",
      "Downloading future-1.0.0-py3-none-any.whl (491 kB)\n",
      "Building wheels for collected packages: pypi-check, pypilist\n",
      "  Building wheel for pypi-check (setup.py) ... \u001b[?25ldone\n",
      "\u001b[?25h  Created wheel for pypi-check: filename=pypi_check-0.1.1-py3-none-any.whl size=2209 sha256=64e9ca893ce0224eb4382e53023a7d18d860be1e72feaedcc7c8c0b1cb596720\n",
      "  Stored in directory: /Users/dean/Library/Caches/pip/wheels/15/31/0a/027a8a85b9f3996d168ba116e0faa4b035cfa8e696534aff28\n",
      "  Building wheel for pypilist (setup.py) ... \u001b[?25ldone\n",
      "\u001b[?25h  Created wheel for pypilist: filename=pypilist-0.1.0-py3-none-any.whl size=345185 sha256=eaa6aa216d8787d91e71090ecd02234f4e3c4c1d94e77e3fb0ac0fcb4f20e302\n",
      "  Stored in directory: /Users/dean/Library/Caches/pip/wheels/07/63/e5/40d3cfa5344cd14017c18a3227c5f91500b99ab25ef2f07edf\n",
      "Successfully built pypi-check pypilist\n",
      "Installing collected packages: future, blessings, pypilist, pypi-check\n",
      "Successfully installed blessings-1.7 future-1.0.0 pypi-check-0.1.1 pypilist-0.1.0\n"
     ]
    }
   ],
   "source": [
    "! pip install pypi-check"
   ]
  },
  {
   "cell_type": "markdown",
   "metadata": {},
   "source": [
    "## Export"
   ]
  },
  {
   "cell_type": "code",
   "execution_count": null,
   "metadata": {},
   "outputs": [],
   "source": [
    "# |hide\n",
    "import nbdev\n",
    "\n",
    "nbdev.nbdev_export()"
   ]
  }
 ],
 "metadata": {
  "kernelspec": {
   "display_name": "python3",
   "language": "python",
   "name": "python3"
  }
 },
 "nbformat": 4,
 "nbformat_minor": 2
}
