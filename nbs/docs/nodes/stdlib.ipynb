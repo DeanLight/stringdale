{
 "cells": [
  {
   "cell_type": "markdown",
   "metadata": {},
   "source": [
    "# stringdale standard library"
   ]
  },
  {
   "cell_type": "markdown",
   "metadata": {},
   "source": [
    "Given our diagram's ability to use generic functions, we can create a standard library of functions that are useful for LLMs."
   ]
  },
  {
   "cell_type": "code",
   "execution_count": null,
   "metadata": {},
   "outputs": [],
   "source": [
    "# | hide\n",
    "%load_ext autoreload\n",
    "%autoreload 2"
   ]
  },
  {
   "cell_type": "code",
   "execution_count": null,
   "metadata": {},
   "outputs": [],
   "source": [
    "#| hide\n",
    "from stringdale.doc import show_doc"
   ]
  },
  {
   "cell_type": "markdown",
   "metadata": {},
   "source": [
    "## Condition"
   ]
  },
  {
   "cell_type": "code",
   "execution_count": null,
   "metadata": {},
   "outputs": [],
   "source": [
    "from stringdale.std import Condition"
   ]
  },
  {
   "cell_type": "code",
   "execution_count": null,
   "metadata": {},
   "outputs": [
    {
     "data": {
      "text/markdown": [
       " ## Condition\n",
       "<p align=\"right\"> <a href=\"https://github.com/DeanLight/stringdale/blob/main/stringdale/std.py\">source</a> </p>\n",
       "\n",
       "> **Signature:** `Condition(func: Union[Callable, str], mapping: Optional[str] = None, name: Optional[str] = None)`\n",
       "\n",
       "A utility function for creating condition functions using stringdale's port mapping logic.\n",
       "\n",
       "\n",
       "| Parameter | Type | Default | Description |\n",
       "|-----------|------|---------|-------------|\n",
       "| func | typing.Union[typing.Callable, str] | None | A function or string to match against the input. If string, it will be interpreted as a regex pattern to match the input against. |\n",
       "| mapping | typing.Optional[str] | None | A mapping of the input to the function. by default, the input is the first argument of the function. |\n",
       "| name | typing.Optional[str] | None | A name for the condition. by default, is func_name->mapping_string |\n",
       "\n",
       "\n",
       "\n",
       "### \\_\\_call\\_\\_\n",
       "\n",
       "None\n",
       "> **Signature:** `Condition.__call__(self, x)`\n",
       "\n",
       "| Parameter | Type | Default | Description |\n",
       "|-----------|------|---------|-------------|\n",
       "| x |  |  |  |\n",
       "\n",
       "\n"
      ],
      "text/plain": [
       "<IPython.core.display.Markdown object>"
      ]
     },
     "metadata": {},
     "output_type": "display_data"
    }
   ],
   "source": [
    "show_doc(Condition) #TODO redo show doc so it shown return values and signature properly"
   ]
  },
  {
   "cell_type": "markdown",
   "metadata": {},
   "source": [
    "### Example"
   ]
  },
  {
   "cell_type": "code",
   "execution_count": null,
   "metadata": {},
   "outputs": [],
   "source": [
    "def is_module_2(x):\n",
    "    return x%2==0\n",
    "\n",
    "is_input_even = Condition(is_module_2,'(x=input)',name='input is even')\n",
    "\n",
    "assert is_input_even({\"input\": 2})\n",
    "assert not is_input_even({\"input\": 3})"
   ]
  },
  {
   "cell_type": "code",
   "execution_count": null,
   "metadata": {},
   "outputs": [],
   "source": [
    "def is_sum_42(x,y):\n",
    "    return x+y==42\n",
    "\n",
    "is_io_42 = Condition(is_sum_42,'(x=input,y=output)',name='i+o=42?')\n",
    "\n",
    "assert is_io_42({\"input\": 2,'output':40})\n",
    "# missing inputs results in False\n",
    "assert not is_io_42({\"input\": 2,})\n",
    "assert not is_io_42({\"input\": 2,'output':39})"
   ]
  },
  {
   "cell_type": "code",
   "execution_count": null,
   "metadata": {},
   "outputs": [
    {
     "data": {
      "text/plain": [
       "((starts with 3 & starts with 5) | starts with 2)"
      ]
     },
     "execution_count": null,
     "metadata": {},
     "output_type": "execute_result"
    }
   ],
   "source": [
    "C = Condition\n",
    "\n",
    "complex_cond = (\n",
    "    C(\"^3\",'(0=input)',name='starts with 3') & \n",
    "    C(\"^5\",'(0=output)',name='starts with 5') | \n",
    "    C(\"^2\",'(0=input)',name='starts with 2'))\n",
    "complex_cond"
   ]
  },
  {
   "cell_type": "code",
   "execution_count": null,
   "metadata": {},
   "outputs": [],
   "source": [
    "assert complex_cond({\"input\": \"345\", \"output\": \"567\"})\n",
    "assert complex_cond({\"input\": \"244\", \"output\": \"567\"})\n",
    "assert not complex_cond({\"input\": \"145\", \"soutput\": \"567\"})\n",
    "assert not complex_cond({\"input\": \"345\", \"output\": \"67\"})\n",
    "assert not complex_cond({\"not_input\": \"145\"})\n",
    "assert complex_cond({ \"input\": \"244\"})"
   ]
  },
  {
   "cell_type": "markdown",
   "metadata": {},
   "source": [
    "## StructureJson"
   ]
  },
  {
   "cell_type": "code",
   "execution_count": null,
   "metadata": {},
   "outputs": [],
   "source": [
    "from stringdale.std import StructureJson"
   ]
  },
  {
   "cell_type": "code",
   "execution_count": null,
   "metadata": {},
   "outputs": [
    {
     "data": {
      "text/markdown": [
       " ## StructureJson\n",
       "<p align=\"right\"> <a href=\"https://github.com/DeanLight/stringdale/blob/main/stringdale/std.py\">source</a> </p>\n",
       "\n",
       "> **Signature:** `StructureJson(*assignments)`\n",
       "\n",
       "A class for restructuring JSON objects by nested paths\n",
       "This class allows restructuring JSON objects by specifying path assignments in the form\n",
       "'target_path=source_path'. It parses these assignments and creates a new JSON object\n",
       "with the specified structure.\n",
       "\n",
       "| Parameter | Type | Default | Description |\n",
       "|-----------|------|---------|-------------|\n",
       "| assignments | None | None | Variable number of strings specifying path assignments in the format'target_path=source_path' |\n",
       "| :Returns: | None | - | A new JSON object with the specified structure. |\n",
       "\n",
       "\n",
       "\n",
       "### \\_\\_call\\_\\_\n",
       "\n",
       "None\n",
       "> **Signature:** `StructureJson.__call__(self, **kwargs)`\n",
       "\n",
       "| Parameter | Type | Default | Description |\n",
       "|-----------|------|---------|-------------|\n",
       "| kwargs |  |  |  |\n",
       "| :Returns: | None | - | A new JSON object with the specified structure. |\n",
       "\n",
       "\n"
      ],
      "text/plain": [
       "<IPython.core.display.Markdown object>"
      ]
     },
     "metadata": {},
     "output_type": "display_data"
    }
   ],
   "source": [
    "show_doc(StructureJson)"
   ]
  },
  {
   "cell_type": "markdown",
   "metadata": {},
   "source": [
    "### Example"
   ]
  },
  {
   "cell_type": "code",
   "execution_count": null,
   "metadata": {},
   "outputs": [
    {
     "data": {
      "text/plain": [
       "{'a': {'b': {'c': 'foo', 'd': 'bar'}}}"
      ]
     },
     "execution_count": null,
     "metadata": {},
     "output_type": "execute_result"
    }
   ],
   "source": [
    "source_obj = {'d':{'e':{'f':'foo'},'x':'bar'}}\n",
    "\n",
    "StructureJson('a.b.c=father.d.e.f','a.b.d=father.d.x')(father=source_obj)"
   ]
  },
  {
   "cell_type": "markdown",
   "metadata": {},
   "source": [
    "## JsonRenderer"
   ]
  },
  {
   "cell_type": "code",
   "execution_count": null,
   "metadata": {},
   "outputs": [],
   "source": [
    "from stringdale.std import JsonRenderer"
   ]
  },
  {
   "cell_type": "code",
   "execution_count": null,
   "metadata": {},
   "outputs": [
    {
     "data": {
      "text/markdown": [
       " ## JsonRenderer\n",
       "<p align=\"right\"> <a href=\"https://github.com/DeanLight/stringdale/blob/main/stringdale/std.py\">source</a> </p>\n",
       "\n",
       "> **Signature:** `JsonRenderer(json_obj, **kwargs)`\n",
       "\n",
       "A class for rendering JSON objects with nested jinja2 templates.\n",
       "\n",
       "Allows setting template variables both during init and when calling the object.\n",
       "\n",
       "| Parameter | Type | Default | Description |\n",
       "|-----------|------|---------|-------------|\n",
       "| json_obj | None | None | A JSON object to render. |\n",
       "| **kwargs | None | None | Context variables to use in the rendering. |\n",
       "| kwargs |  |  |  |\n",
       "| :Returns: | None | - | A rendered JSON object. |\n",
       "\n",
       "\n",
       "\n",
       "### \\_\\_call\\_\\_\n",
       "\n",
       "None\n",
       "> **Signature:** `JsonRenderer.__call__(self, **kwargs)`\n",
       "\n",
       "| Parameter | Type | Default | Description |\n",
       "|-----------|------|---------|-------------|\n",
       "| kwargs |  |  |  |\n",
       "| :Returns: | None | - | A rendered JSON object. |\n",
       "\n",
       "\n"
      ],
      "text/plain": [
       "<IPython.core.display.Markdown object>"
      ]
     },
     "metadata": {},
     "output_type": "display_data"
    }
   ],
   "source": [
    "show_doc(JsonRenderer)"
   ]
  },
  {
   "cell_type": "markdown",
   "metadata": {},
   "source": [
    "### Example"
   ]
  },
  {
   "cell_type": "code",
   "execution_count": null,
   "metadata": {},
   "outputs": [
    {
     "data": {
      "text/plain": [
       "JsonRenderer(missing_keys={'name'})"
      ]
     },
     "execution_count": null,
     "metadata": {},
     "output_type": "execute_result"
    }
   ],
   "source": [
    "template_json = {\n",
    "    'name': '{{name}}',\n",
    "    'age': '{{age}}',\n",
    "    'city_path': '{%for city in cities%} {{city}} - {%endfor%}'\n",
    "}\n",
    "\n",
    "rend = JsonRenderer(template_json,age=30,cities=['SF','LA','NY'])\n",
    "rend\n"
   ]
  },
  {
   "cell_type": "code",
   "execution_count": null,
   "metadata": {},
   "outputs": [
    {
     "data": {
      "text/plain": [
       "{'name': 'Bob', 'age': '30', 'city_path': 'SF -  LA -  NY -'}"
      ]
     },
     "execution_count": null,
     "metadata": {},
     "output_type": "execute_result"
    }
   ],
   "source": [
    "rend(name='Bob')"
   ]
  }
 ],
 "metadata": {
  "kernelspec": {
   "display_name": "python3",
   "language": "python",
   "name": "python3"
  }
 },
 "nbformat": 4,
 "nbformat_minor": 2
}
