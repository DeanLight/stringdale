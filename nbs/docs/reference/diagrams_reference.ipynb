{
 "cells": [
  {
   "cell_type": "markdown",
   "metadata": {},
   "source": [
    "# Diagrams"
   ]
  },
  {
   "cell_type": "code",
   "execution_count": null,
   "metadata": {},
   "outputs": [],
   "source": [
    "# | hide\n",
    "%load_ext autoreload\n",
    "%autoreload 2"
   ]
  },
  {
   "cell_type": "markdown",
   "metadata": {},
   "source": [
    "## Defining Diagrams"
   ]
  },
  {
   "cell_type": "code",
   "execution_count": null,
   "metadata": {},
   "outputs": [],
   "source": [
    "#| hide\n",
    "from stringdale.diagrams import V,E,Define,Scope,Diagram,draw_diagram\n",
    "from stringdale.doc import show_doc\n"
   ]
  },
  {
   "cell_type": "code",
   "execution_count": null,
   "metadata": {},
   "outputs": [
    {
     "data": {
      "text/markdown": [
       " ## Define\n",
       "<p align=\"right\"> <a href=\"https://github.com/DeanLight/stringdale/blob/main/stringdale/diagrams.py\">source</a> </p>\n",
       "\n",
       "> **Signature:** `Define(diagram_name, type: str = 'flow', state: pydantic.main.BaseModel = <class 'stringdale.diagrams.BaseModelExtra'>, draw: bool = True, draw_raw: bool = False, validate: bool = True, direction: str = 'TB')`\n",
       "\n",
       "Define a new diagram using a context manager.\n",
       "\n",
       "\n",
       "| Parameter | Type | Default | Description |\n",
       "|-----------|------|---------|-------------|\n",
       "| diagram_name | None | None | Name for the new diagram |\n",
       "| type | <class 'str'> | flow | The type of diagram to create. Defaults to 'flow' |\n",
       "| state | <class 'pydantic.main.BaseModel'> | <class 'stringdale.diagrams.BaseModelExtra'> | The state class to use for the diagram. Defaults to BaseModelExtra |\n",
       "| solve_name_conflicts | None | None | If True, append numbers to duplicate names. If False, raise error. Defaults to False |\n",
       "| draw | <class 'bool'> | True | If True, draws the diagram after definition. Defaults to True |\n",
       "| draw_raw | <class 'bool'> | False | If True, draws the raw graph after definition. Defaults to False |\n",
       "| validate | <class 'bool'> | True | If True, validates diagram structure after definition. Defaults to True |\n",
       "| direction | <class 'str'> | TB | the direction to draw the diagram in, either TB or LR. Defaults to TB |\n",
       "| :Returns: | None | - | The created diagram object<br>     |\n",
       "\n"
      ],
      "text/plain": [
       "<IPython.core.display.Markdown object>"
      ]
     },
     "metadata": {},
     "output_type": "display_data"
    }
   ],
   "source": [
    "show_doc(Define)"
   ]
  },
  {
   "cell_type": "code",
   "execution_count": null,
   "metadata": {},
   "outputs": [
    {
     "data": {
      "text/markdown": [
       " ## V\n",
       "<p align=\"right\"> <a href=\"https://github.com/DeanLight/stringdale/blob/main/stringdale/diagrams.py\">source</a> </p>\n",
       "\n",
       "> **Signature:** `V(name: str, func: Callable = None, inputs: Any = None, outputs=None, is_break: bool = False, for_each: Optional[List[str]] = None, filter: bool = False, flat: bool = False, as_start: bool = False, as_end: bool = False) -> None`\n",
       "\n",
       "Add a vertex (node) to the current diagram.\n",
       "\n",
       "\n",
       "| Parameter | Type | Default | Description |\n",
       "|-----------|------|---------|-------------|\n",
       "| name | <class 'str'> | None | Name of the node |\n",
       "| func | typing.Callable | None | Function to execute at this node. If None, node acts as a passthrough |\n",
       "| inputs | typing.Any | None | List of input edge descriptors. Each descriptor can be either:- A string in format \"source_node.source_port->target_port\" - A tuple (edge_descriptor, condition_func) for conditional edges |\n",
       "| outputs | List[str] | None | List of output edge descriptors. Each descriptor can be either:- A string in format \"source_port->target_node.target_port\"- A tuple (edge_descriptor, condition_func) for conditional edges |\n",
       "| is_break | <class 'bool'> | False | If True, execution will pause at this node. Not allowed in flow scopes |\n",
       "| for_each | typing.Optional[typing.List[str]] | None | List of input keys to iterate over. Used for batching operations in Flow diagrams.If provided, the node will be executed once for each product of items in the input list.This for each keys must get iteratbles from the input edges. |\n",
       "| filter | <class 'bool'> | False | Used for batching operations in Flow diagrams. If True, falsy node outputs will be filtered out. Cannot be used with flat=True |\n",
       "| flat | <class 'bool'> | False | Used for batching operations in Flow diagrams.If True, node output lists will be flattened into a single list.Cannot be used with filter=True |\n",
       "| as_start | <class 'bool'> | False | If True, marks this node as the diagram's start node |\n",
       "| as_end | <class 'bool'> | False | If True, marks this node as the diagram's end node |\n",
       "| :Returns: | None | - | Name of the created node |\n",
       "\n"
      ],
      "text/plain": [
       "<IPython.core.display.Markdown object>"
      ]
     },
     "metadata": {},
     "output_type": "display_data"
    }
   ],
   "source": [
    "show_doc(V)"
   ]
  },
  {
   "cell_type": "code",
   "execution_count": null,
   "metadata": {},
   "outputs": [
    {
     "data": {
      "text/markdown": [
       " ## E\n",
       "<p align=\"right\"> <a href=\"https://github.com/DeanLight/stringdale/blob/main/stringdale/diagrams.py\">source</a> </p>\n",
       "\n",
       "> **Signature:** `E(edge_string: str, cond: Callable = None, type: str = None) -> None`\n",
       "\n",
       "Add an edge to the current diagram\n",
       "\n",
       "\n",
       "| Parameter | Type | Default | Description |\n",
       "|-----------|------|---------|-------------|\n",
       "| edge_string | <class 'str'> | None | The edge descriptor string |\n",
       "| cond | typing.Callable | None | The condition of the edge |\n",
       "| type | <class 'str'> | None | The type of the edge, either 'flow' or 'decision', by default, the type is determined by the current scope     |\n",
       "| :Returns: | None | - |  |\n",
       "\n"
      ],
      "text/plain": [
       "<IPython.core.display.Markdown object>"
      ]
     },
     "metadata": {},
     "output_type": "display_data"
    }
   ],
   "source": [
    "show_doc(E)"
   ]
  },
  {
   "cell_type": "code",
   "execution_count": null,
   "metadata": {},
   "outputs": [
    {
     "data": {
      "text/markdown": [
       " ## Scope\n",
       "<p align=\"right\"> <a href=\"https://github.com/DeanLight/stringdale/blob/main/stringdale/diagrams.py\">source</a> </p>\n",
       "\n",
       "> **Signature:** `Scope(scope: str)`\n",
       "\n",
       "Context manager for defining a flow/decision scope in a diagram of a different type\n",
       "\n",
       "\n",
       "| Parameter | Type | Default | Description |\n",
       "|-----------|------|---------|-------------|\n",
       "| scope | <class 'str'> | None | The scope type to start. Can be either a string ('flow' or 'decision'). |\n",
       "\n"
      ],
      "text/plain": [
       "<IPython.core.display.Markdown object>"
      ]
     },
     "metadata": {},
     "output_type": "display_data"
    }
   ],
   "source": [
    "show_doc(Scope)"
   ]
  },
  {
   "cell_type": "markdown",
   "metadata": {},
   "source": [
    "### draw_diagram"
   ]
  },
  {
   "cell_type": "code",
   "execution_count": null,
   "metadata": {},
   "outputs": [
    {
     "data": {
      "text/markdown": [
       " ## draw_diagram\n",
       "<p align=\"right\"> <a href=\"https://github.com/DeanLight/stringdale/blob/main/stringdale/diagrams.py\">source</a> </p>\n",
       "\n",
       "> **Signature:** `draw_diagram(diagram, name=None, return_dot=False, direction='TB', recursive: Union[bool, List[str]] = False, factored=False)`\n",
       "\n",
       "Draw a diagram using graphviz.\n",
       "\n",
       "\n",
       "| Parameter | Type | Default | Description |\n",
       "|-----------|------|---------|-------------|\n",
       "| diagram | None | None | Either a diagram object or a diagram scheme object |\n",
       "| name | None | None | If provided, uses this name for the diagram in the Mermaid title |\n",
       "| return_dot | None | False | If True, returns the graphviz dot object |\n",
       "| direction | None | TB | direction to draw, either TB (top to bottom) or LR (left to right), defaults to TB |\n",
       "| recursive | typing.Union[bool, typing.List[str]] | False | Whether to draw subdiagrams as well. If False, only the top level diagram is drawn.If True, all subdiagrams are drawn.If a list of strings, only the subdiagrams with whose names the regex strings are drawn. |\n",
       "| factored | None | False | If True, draws the factored graph, used for debugging |\n",
       "| :Returns: | None | - | If return_dot is True, returns dot objects<br>Otherwise displays diagram when in an Ipython environment |\n",
       "\n"
      ],
      "text/plain": [
       "<IPython.core.display.Markdown object>"
      ]
     },
     "metadata": {},
     "output_type": "display_data"
    }
   ],
   "source": [
    "show_doc(draw_diagram)"
   ]
  },
  {
   "cell_type": "markdown",
   "metadata": {},
   "source": [
    "## Running diagrams"
   ]
  },
  {
   "cell_type": "code",
   "execution_count": null,
   "metadata": {},
   "outputs": [
    {
     "data": {
      "text/markdown": [
       " ## Diagram\n",
       "<p align=\"right\"> <a href=\"https://github.com/DeanLight/stringdale/blob/main/stringdale/diagrams.py\">source</a> </p>\n",
       "\n",
       "> **Signature:** `Diagram(**kwargs)`\n",
       "\n",
       "An instance of a stringdale diagram. Instantiated by calling the Schema()\n",
       "\n",
       "Has the following public attributes:\n",
       "output - the output of the last run\n",
       "finished - whether the diagram has reached the End node\n",
       "state - the current state of the diagram\n",
       "\n",
       "| Parameter | Type | Default | Description |\n",
       "|-----------|------|---------|-------------|\n",
       "\n",
       "\n",
       "\n",
       "### get_node_func\n",
       "\n",
       "Get the function associated with a node in the diagram.\n",
       "\n",
       "> **Signature:** `Diagram.get_node_func(self: stringdale.diagrams.Diagram, node)`\n",
       "\n",
       "| Parameter | Type | Default | Description |\n",
       "|-----------|------|---------|-------------|\n",
       "| node | None | None | The node identifier to get the function for |\n",
       "\n",
       "\n",
       "\n",
       "### run_all\n",
       "\n",
       "Run the diagram to completion and return the final output.\n",
       "\n",
       "> **Signature:** `Diagram.run_all(self: stringdale.diagrams.Diagram, input: Any, state: Union[pydantic.main.BaseModel, Dict] = None, progress_bars: bool = True, trace_nested: bool = True)`\n",
       "\n",
       "| Parameter | Type | Default | Description |\n",
       "|-----------|------|---------|-------------|\n",
       "| input | typing.Any | None | The input data to process through the diagram |\n",
       "| state | typing.Union[pydantic.main.BaseModel, typing.Dict] | None | Optional state to initialize the diagram with |\n",
       "| progress_bars | <class 'bool'> | True | Whether to display progress bars during execution (default True). Deprecated. |\n",
       "| trace_nested | <class 'bool'> | True | Whether to trace nested diagram execution (default True) |\n",
       "\n",
       "\n",
       "\n",
       "### run\n",
       "\n",
       "Run the diagram with the given input and state.\n",
       "\n",
       "> **Signature:** `Diagram.run(self: stringdale.diagrams.Diagram, input: Any, state: Union[pydantic.main.BaseModel, Dict] = None, progress_bars: bool = True, trace_nested: bool = True)`\n",
       "\n",
       "| Parameter | Type | Default | Description |\n",
       "|-----------|------|---------|-------------|\n",
       "| input | typing.Any | None | The input data to process through the diagram |\n",
       "| state | typing.Union[pydantic.main.BaseModel, typing.Dict] | None | Optional state to initialize the diagram with |\n",
       "| progress_bars | <class 'bool'> | True | Whether to display progress bars during execution (default True). Deprecated. |\n",
       "| trace_nested | <class 'bool'> | True | Whether to trace nested diagram execution (default True) |\n",
       "\n",
       "\n",
       "\n",
       "### arun\n",
       "\n",
       "Asynchronously run the diagram with the given input and state.\n",
       "\n",
       "> **Signature:** `Diagram.arun(self: stringdale.diagrams.Diagram, input: Any, state: Union[pydantic.main.BaseModel, Dict] = None, progress_bars: bool = True, trace_nested: bool = True)`\n",
       "\n",
       "| Parameter | Type | Default | Description |\n",
       "|-----------|------|---------|-------------|\n",
       "| input | typing.Any | None | The input data to process through the diagram |\n",
       "| state | typing.Union[pydantic.main.BaseModel, typing.Dict] | None | Optional state to initialize the diagram with |\n",
       "| progress_bars | <class 'bool'> | True | Whether to display progress bars during execution (default True). Deprecated. |\n",
       "| trace_nested | <class 'bool'> | True | Whether to trace nested diagram execution (default True) |\n",
       "\n",
       "\n"
      ],
      "text/plain": [
       "<IPython.core.display.Markdown object>"
      ]
     },
     "metadata": {},
     "output_type": "display_data"
    }
   ],
   "source": [
    "show_doc(Diagram,methods=['get_node_func','run_all','run','arun'])"
   ]
  },
  {
   "cell_type": "code",
   "execution_count": null,
   "metadata": {},
   "outputs": [],
   "source": [
    "# |hide\n",
    "import nbdev\n",
    "\n",
    "nbdev.nbdev_export()"
   ]
  }
 ],
 "metadata": {
  "kernelspec": {
   "display_name": "python3",
   "language": "python",
   "name": "python3"
  }
 },
 "nbformat": 4,
 "nbformat_minor": 2
}
