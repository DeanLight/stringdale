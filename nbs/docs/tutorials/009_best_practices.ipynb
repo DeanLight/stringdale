{
 "cells": [
  {
   "cell_type": "code",
   "execution_count": null,
   "metadata": {},
   "outputs": [],
   "source": [
    "# | hide\n",
    "%load_ext autoreload\n",
    "%autoreload 2"
   ]
  },
  {
   "cell_type": "markdown",
   "metadata": {},
   "source": [
    "# Best Practices"
   ]
  },
  {
   "cell_type": "markdown",
   "metadata": {},
   "source": [
    "Here are some best practices for working with diagram."
   ]
  },
  {
   "cell_type": "markdown",
   "metadata": {},
   "source": [
    "## Diagram Factories"
   ]
  },
  {
   "cell_type": "markdown",
   "metadata": {},
   "source": [
    "When you have several sub agent's that share alot of logic, do not repeat yourself by writing a diagram factory.\n",
    "\n",
    "For example, if we have a different rag agents pointing to different DBs, with different instructions we could write it like so:"
   ]
  },
  {
   "cell_type": "markdown",
   "metadata": {},
   "source": [
    "```python\n",
    "\n",
    "# define the factory\n",
    "def rag_factory(db_path,custom_instructions=None,**db_params):\n",
    "\n",
    "    # parametrize the document retriever\n",
    "    document_retriever = DocumentRetriever(db_path,**db_params)\n",
    "    \n",
    "    # add your custom instructions to a basic prompt\n",
    "    prompt = ... \n",
    "\n",
    "    with Define(f'RAG',type='decision') as D:\n",
    "        ... # define the diagram here\n",
    "\n",
    "    return D\n",
    "\n",
    "# than we can make different diagrams from the same factory\n",
    "RAG1 = rag_factory(db_path=\"...\",custom_instructions=\"...\",**db_params)\n",
    "RAG2 = rag_factory(db_path=\"...\",custom_instructions=\"...\",**db_params)\n",
    "\n",
    "# and use them normally\n",
    "r1 = RAG1()\n",
    "for trace in r1.run({'question':'...'}):\n",
    "    trace.pprint()\n",
    "\n",
    "r2 = RAG2()\n",
    "for trace in r2.run({'question':'...'}):\n",
    "    trace.pprint()\n",
    "```"
   ]
  },
  {
   "cell_type": "markdown",
   "metadata": {},
   "source": [
    "You can see a real example of this in the Interactive QA example."
   ]
  },
  {
   "cell_type": "markdown",
   "metadata": {},
   "source": [
    "## Managing contexts for diagram nodes"
   ]
  },
  {
   "cell_type": "markdown",
   "metadata": {},
   "source": [
    "Often, we have objects that we would like to access through a context manager, ie, accessing a DB's session.\n",
    "\n",
    "For example, imagine that we have a DB session that is invoked as follows:\n",
    "```python\n",
    "with db.get_session(auth_keys) as Session:\n",
    "    session.execute_query(q)\n",
    "```\n",
    "\n",
    "Our problem is that we do not want to instantiate the session when defining the diagram, only when running it.\n",
    "Meaning we would like something like:\n",
    "\n",
    "\n",
    "```python\n",
    "\n",
    "def query1(session):\n",
    "  session.execute_query('....')\n",
    "\n",
    "with Define(...) as D:\n",
    "  ...\n",
    "  V('q1',query1)\n",
    "  ...\n",
    "\n",
    "d=D()\n",
    "\n",
    "with db.get_session(auth_keys) as Session:\n",
    "  for trace in d.run(input):\n",
    "    # somehow the diagram uses the Session we defined\n",
    "    pass\n",
    "\n",
    "```"
   ]
  },
  {
   "cell_type": "markdown",
   "metadata": {},
   "source": [
    "### Bad solution\n"
   ]
  },
  {
   "cell_type": "markdown",
   "metadata": {},
   "source": [
    "We could feed the session as input or as State, and rewrite our diagram to get the state\n",
    "\n",
    "```python\n",
    "with db.get_session(auth_keys) as Session:\n",
    "  for trace in d.run(input,state={'Session':Session}):\n",
    "    pass\n",
    "```\n",
    "\n",
    "\n",
    "This is bad for several reasons:\n",
    "* The session object is not data and will likely not be serializable.\n",
    "* We are complicating our workflow graph for technical reasons."
   ]
  },
  {
   "cell_type": "markdown",
   "metadata": {},
   "source": [
    "### Solution #1  - using factories"
   ]
  },
  {
   "cell_type": "markdown",
   "metadata": {},
   "source": [
    "```python\n",
    "\n",
    "def diagram_factory(Session):\n",
    "    with Define('RAG',type='decision') as D:\n",
    "        ...\n",
    "    return D\n",
    "\n",
    "with db.get_session(auth_keys) as Session:\n",
    "    d = diagram_factory(Session)\n",
    "    for trace in d.run(input):\n",
    "        pass\n",
    "    \n",
    "```\n",
    "\n",
    "This is very straight forward and is a decent solution, though it may not be ideal since it couples defining and running the diagram."
   ]
  },
  {
   "cell_type": "markdown",
   "metadata": {},
   "source": [
    "## Solution #2 - create context dependant nodes with your own context managers"
   ]
  },
  {
   "cell_type": "markdown",
   "metadata": {},
   "source": [
    "> Note, the following has nothing to do with stringdale, it is simply an ordinary design pattern"
   ]
  },
  {
   "cell_type": "markdown",
   "metadata": {},
   "source": [
    "We can create functions that require an active context to run. There are many ways to do this, but one of them is with the singleton pattern.\n",
    "We will show an example using the [singleton-decorator](https://pypi.org/project/singleton-decorator/) library."
   ]
  },
  {
   "cell_type": "markdown",
   "metadata": {},
   "source": [
    "```python\n",
    "from singleton_decorator import singleton\n",
    "\n",
    "@singleton\n",
    "class DBSession:\n",
    "    def __init__(self,auth_keys):\n",
    "        self.active_session= None\n",
    "\n",
    "    def __enter__(self,auth_keys):\n",
    "        self.active_session = db.get_session.__enter__(auth_keys)\n",
    "        return active_session\n",
    "        \n",
    "    def __exit__(self):\n",
    "        self.active_session.__exit__()\n",
    "        self.active_session = None\n",
    "\n",
    "    # def you can make specific queries here\n",
    "    def query_1(self,**params):\n",
    "        q = '...'.format(**params)\n",
    "        return self.active_session.execute_query(q)\n",
    "\n",
    "    # or make a factory for \n",
    "    def make_query(self,q_string):\n",
    "\n",
    "        def run_query(**params)\n",
    "            q = '...'.format(**params)\n",
    "            return self.active_session.execute_query(q)\n",
    "        return run_query\n",
    "```"
   ]
  },
  {
   "cell_type": "markdown",
   "metadata": {},
   "source": [
    "Then you can use this as follows:"
   ]
  },
  {
   "cell_type": "markdown",
   "metadata": {},
   "source": [
    "```python\n",
    "# when defining diagrams:\n",
    "with Define('...') as D:\n",
    "    ...\n",
    "    V('q1',DBsession().make_query('...'))\n",
    "    ...\n",
    "\n",
    "# when running diagrams:\n",
    "d=D()\n",
    "with DBSession()(auth_keys) as Session:\n",
    "    # now the query_function will use the same session inside the diagram\n",
    "    for trace in d.run(input):\n",
    "        trace.pprint()\n",
    "        # we can also add sideeffect\n",
    "        Session.execute_query('... some metric logging query')\n",
    "\n",
    "```"
   ]
  }
 ],
 "metadata": {
  "kernelspec": {
   "display_name": "python3",
   "language": "python",
   "name": "python3"
  }
 },
 "nbformat": 4,
 "nbformat_minor": 2
}
