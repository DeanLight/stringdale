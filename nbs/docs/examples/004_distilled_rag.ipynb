{
 "cells": [
  {
   "cell_type": "markdown",
   "metadata": {},
   "source": [
    "# Rag with chunk distilation search"
   ]
  },
  {
   "cell_type": "code",
   "execution_count": null,
   "metadata": {},
   "outputs": [],
   "source": [
    "#| hide\n",
    "%load_ext autoreload\n",
    "%autoreload 2\n"
   ]
  },
  {
   "cell_type": "code",
   "execution_count": null,
   "metadata": {},
   "outputs": [
    {
     "data": {
      "text/plain": [
       "True"
      ]
     },
     "execution_count": null,
     "metadata": {},
     "output_type": "execute_result"
    }
   ],
   "source": [
    "# | hide\n",
    "from stringdale.core import get_git_root, load_env, checkLogs, json_render\n",
    "\n",
    "load_env()"
   ]
  },
  {
   "cell_type": "code",
   "execution_count": null,
   "metadata": {},
   "outputs": [],
   "source": [
    "from pathlib import Path\n",
    "from pprint import pprint\n",
    "\n",
    "from stringdale.diagrams import (\n",
    "    Define,Scope,\n",
    "    V,E,\n",
    "    draw_diagram\n",
    ")\n",
    "from stringdale.chat import Chat\n",
    "from stringdale.std import Condition as C,StructureJson\n",
    "from stringdale.db import ChromaClient\n",
    "\n"
   ]
  },
  {
   "cell_type": "code",
   "execution_count": null,
   "metadata": {},
   "outputs": [],
   "source": [
    "chroma_client = ChromaClient()"
   ]
  },
  {
   "cell_type": "markdown",
   "metadata": {},
   "source": [
    "## Upload docs"
   ]
  },
  {
   "cell_type": "code",
   "execution_count": null,
   "metadata": {},
   "outputs": [],
   "source": [
    "sample_doc = {'text':\"\"\"\n",
    "The elephant is one of the most remarkable creatures on Earth. Known for their intelligence and complex social structures, elephants form deep family bonds that can last a lifetime. These gentle giants possess remarkable memory capabilities and demonstrate emotional behaviors like mourning their dead. Their distinctive trunks, containing over 40,000 muscles, serve multiple purposes from gathering food to expressing affection.\n",
    "\n",
    "The arctic fox is a fascinating animal that has adapted perfectly to life in the extreme cold. During winter, its thick white fur provides both insulation and camouflage in the snowy landscape, while in summer its coat turns brownish-gray to blend with the tundra. These resourceful predators can survive temperatures as low as -50°C (-58°F) and will travel vast distances across the Arctic ice in search of food, often following polar bears to scavenge their leftovers.\n",
    "\n",
    "The octopus stands out as one of the ocean's most intelligent invertebrates. With nine brains (one central brain and eight additional ones in each arm), these cephalopods can solve complex puzzles, open jars, and even use tools. Their remarkable ability to change both color and texture allows them to perfectly mimic their surroundings, making them masters of disguise. Despite their impressive capabilities, most octopus species live only 1-2 years, making their intelligence even more remarkable given their short lifespan.\n",
    "\"\"\",\n",
    "'id':'animal_book'\n",
    "}"
   ]
  },
  {
   "cell_type": "code",
   "execution_count": null,
   "metadata": {},
   "outputs": [
    {
     "data": {
      "text/plain": [
       "[{'text': 'The elephant is one of the most remarkable creatures on Earth. Known for their intelligence and complex social structures, elephants form deep family bonds that can last a lifetime. These gentle giants possess remarkable memory capabilities and demonstrate emotional behaviors like mourning their dead. Their distinctive trunks, containing over 40,000 muscles, serve multiple purposes from gathering food to expressing affection.',\n",
       "  'id': 'animal_book_0'},\n",
       " {'text': 'The arctic fox is a fascinating animal that has adapted perfectly to life in the extreme cold. During winter, its thick white fur provides both insulation and camouflage in the snowy landscape, while in summer its coat turns brownish-gray to blend with the tundra. These resourceful predators can survive temperatures as low as -50°C (-58°F) and will travel vast distances across the Arctic ice in search of food, often following polar bears to scavenge their leftovers.',\n",
       "  'id': 'animal_book_1'},\n",
       " {'text': \"The octopus stands out as one of the ocean's most intelligent invertebrates. With nine brains (one central brain and eight additional ones in each arm), these cephalopods can solve complex puzzles, open jars, and even use tools. Their remarkable ability to change both color and texture allows them to perfectly mimic their surroundings, making them masters of disguise. Despite their impressive capabilities, most octopus species live only 1-2 years, making their intelligence even more remarkable given their short lifespan.\",\n",
       "  'id': 'animal_book_2'}]"
      ]
     },
     "execution_count": null,
     "metadata": {},
     "output_type": "execute_result"
    }
   ],
   "source": [
    "def splitter(doc):\n",
    "    doc_id = doc['id']\n",
    "    text = doc['text']\n",
    "    return [{'text':chunk.strip(),'id':f'{doc_id}_{i}'} for i,chunk in enumerate(text.split('\\n\\n'))]\n",
    "\n",
    "chunks = splitter(sample_doc)\n",
    "chunks\n",
    "\n"
   ]
  },
  {
   "cell_type": "code",
   "execution_count": null,
   "metadata": {},
   "outputs": [
    {
     "data": {
      "text/plain": [
       "{'text': 'Description of elephants as intelligent and social animals.',\n",
       " 'id': 'animal_book_2',\n",
       " 'metadata': {'full_text': \"The octopus stands out as one of the ocean's most intelligent invertebrates. With nine brains (one central brain and eight additional ones in each arm), these cephalopods can solve complex puzzles, open jars, and even use tools. Their remarkable ability to change both color and texture allows them to perfectly mimic their surroundings, making them masters of disguise. Despite their impressive capabilities, most octopus species live only 1-2 years, making their intelligence even more remarkable given their short lifespan.\"}}"
      ]
     },
     "execution_count": null,
     "metadata": {},
     "output_type": "execute_result"
    }
   ],
   "source": [
    "unstructured_summary = {\n",
    "   'doc':{\n",
    "      'text': \"The octopus stands out as one of the ocean's most intelligent invertebrates. With nine brains (one central brain and eight additional ones in each arm), these cephalopods can solve complex puzzles, open jars, and even use tools. Their remarkable ability to change both color and texture allows them to perfectly mimic their surroundings, making them masters of disguise. Despite their impressive capabilities, most octopus species live only 1-2 years, making their intelligence even more remarkable given their short lifespan.\",\n",
    "      'id': 'animal_book_2'\n",
    "   },\n",
    "   'description': 'Description of elephants as intelligent and social animals.',\n",
    "}\n",
    "\n",
    "StructureJson('text=description','id=doc.id','metadata.full_text=doc.text')(**unstructured_summary)"
   ]
  },
  {
   "cell_type": "code",
   "execution_count": null,
   "metadata": {},
   "outputs": [
    {
     "data": {
      "text/plain": [
       "{'role': 'assistant',\n",
       " 'content': 'Description of elephants as intelligent and social animals with strong family bonds.',\n",
       " 'meta': {'input_tokens': 292, 'output_tokens': 21}}"
      ]
     },
     "execution_count": null,
     "metadata": {},
     "output_type": "execute_result"
    }
   ],
   "source": [
    "topic_summarizer = Chat(model='gpt-4o-mini',\n",
    "    messages=[\n",
    "        {'role':'system','content':'''\n",
    "        You are a helpful assistant that summarizes chunks of text.\n",
    "        Here are some examples of how to summarize text:\n",
    "        Text:\n",
    "        Dogs are loyal companions that come in many breeds. They are known for their intelligence, \n",
    "        trainability and ability to form strong bonds with humans. Dogs have been domesticated \n",
    "        for thousands of years and serve many roles including pets, working animals, and service animals.\n",
    "        They communicate through barking, body language and facial expressions. Most dogs are social \n",
    "        animals that thrive on interaction with their human families.\n",
    "        Summary:\n",
    "        Description of dogs as pets.\n",
    "        '''},\n",
    "        {'role':'user','content':'{{text}}'}\n",
    "    ])\n",
    "\n",
    "res = await topic_summarizer(text=chunks[0]['text'])\n",
    "res\n"
   ]
  },
  {
   "cell_type": "code",
   "execution_count": null,
   "metadata": {},
   "outputs": [
    {
     "data": {
      "image/svg+xml": [
       "<?xml version=\"1.0\" encoding=\"UTF-8\" standalone=\"no\"?>\n",
       "<!DOCTYPE svg PUBLIC \"-//W3C//DTD SVG 1.1//EN\"\n",
       " \"http://www.w3.org/Graphics/SVG/1.1/DTD/svg11.dtd\">\n",
       "<!-- Generated by graphviz version 12.2.1 (20241206.2353)\n",
       " -->\n",
       "<!-- Title: add_description_to_doc Pages: 1 -->\n",
       "<svg width=\"254pt\" height=\"355pt\"\n",
       " viewBox=\"0.00 0.00 254.50 354.50\" xmlns=\"http://www.w3.org/2000/svg\" xmlns:xlink=\"http://www.w3.org/1999/xlink\">\n",
       "<g id=\"graph0\" class=\"graph\" transform=\"scale(1 1) rotate(0) translate(4 350.5)\">\n",
       "<title>add_description_to_doc</title>\n",
       "<polygon fill=\"white\" stroke=\"none\" points=\"-4,4 -4,-350.5 250.5,-350.5 250.5,4 -4,4\"/>\n",
       "<text text-anchor=\"middle\" x=\"123.25\" y=\"-329.2\" font-family=\"Times,serif\" font-size=\"14.00\">add_description_to_doc</text>\n",
       "<!-- node_0 -->\n",
       "<g id=\"node1\" class=\"node\">\n",
       "<title>node_0</title>\n",
       "<polygon fill=\"#ececff\" stroke=\"#9370db\" points=\"162.25,-233.5 0,-233.5 0,-159.5 162.25,-159.5 162.25,-233.5\"/>\n",
       "<text text-anchor=\"middle\" x=\"81.12\" y=\"-216.2\" font-family=\"Times,serif\" font-size=\"14.00\">get_description[</text>\n",
       "<text text-anchor=\"middle\" x=\"81.12\" y=\"-199.7\" font-family=\"Times,serif\" font-size=\"14.00\">Chat(model=&#39;gpt&#45;4o&#45;mini&#39;,</text>\n",
       "<text text-anchor=\"middle\" x=\"81.12\" y=\"-183.2\" font-family=\"Times,serif\" font-size=\"14.00\">required_keys={&#39;text&#39;},</text>\n",
       "<text text-anchor=\"middle\" x=\"81.12\" y=\"-166.7\" font-family=\"Times,serif\" font-size=\"14.00\">seed=42) ]</text>\n",
       "</g>\n",
       "<!-- node_2 -->\n",
       "<g id=\"node3\" class=\"node\">\n",
       "<title>node_2</title>\n",
       "<polygon fill=\"#ececff\" stroke=\"#9370db\" points=\"232.25,-90.5 46,-90.5 46,0 232.25,0 232.25,-90.5\"/>\n",
       "<text text-anchor=\"middle\" x=\"139.12\" y=\"-73.2\" font-family=\"Times,serif\" font-size=\"14.00\">End[</text>\n",
       "<text text-anchor=\"middle\" x=\"139.12\" y=\"-56.7\" font-family=\"Times,serif\" font-size=\"14.00\">StructureJson(text=description,</text>\n",
       "<text text-anchor=\"middle\" x=\"139.12\" y=\"-40.2\" font-family=\"Times,serif\" font-size=\"14.00\">id=doc.id,</text>\n",
       "<text text-anchor=\"middle\" x=\"139.12\" y=\"-23.7\" font-family=\"Times,serif\" font-size=\"14.00\">metadata.full_text=doc.text)</text>\n",
       "<text text-anchor=\"middle\" x=\"139.12\" y=\"-7.2\" font-family=\"Times,serif\" font-size=\"14.00\">]</text>\n",
       "</g>\n",
       "<!-- node_0&#45;&gt;node_2 -->\n",
       "<g id=\"edge1\" class=\"edge\">\n",
       "<title>node_0&#45;&gt;node_2</title>\n",
       "<path fill=\"none\" stroke=\"black\" d=\"M95.17,-159.37C101.93,-141.97 110.18,-120.73 117.7,-101.37\"/>\n",
       "<polygon fill=\"black\" stroke=\"black\" points=\"120.88,-102.85 121.24,-92.26 114.36,-100.31 120.88,-102.85\"/>\n",
       "<text text-anchor=\"middle\" x=\"143.6\" y=\"-128.2\" font-family=\"Times,serif\" font-size=\"14.00\">content &#45;&gt;</text>\n",
       "<text text-anchor=\"middle\" x=\"143.6\" y=\"-111.7\" font-family=\"Times,serif\" font-size=\"14.00\">description</text>\n",
       "</g>\n",
       "<!-- node_1 -->\n",
       "<g id=\"node2\" class=\"node\">\n",
       "<title>node_1</title>\n",
       "<polygon fill=\"#ececff\" stroke=\"#9370db\" points=\"166.12,-322 112.12,-322 112.12,-286 166.12,-286 166.12,-322\"/>\n",
       "<text text-anchor=\"middle\" x=\"139.12\" y=\"-298.95\" font-family=\"Times,serif\" font-size=\"14.00\">Start</text>\n",
       "</g>\n",
       "<!-- node_1&#45;&gt;node_0 -->\n",
       "<g id=\"edge2\" class=\"edge\">\n",
       "<title>node_1&#45;&gt;node_0</title>\n",
       "<path fill=\"none\" stroke=\"black\" d=\"M115.39,-285.65C109.7,-280.52 104.13,-274.51 100.12,-268 95.79,-260.95 92.43,-252.9 89.83,-244.84\"/>\n",
       "<polygon fill=\"black\" stroke=\"black\" points=\"93.24,-244.03 87.14,-235.36 86.5,-245.94 93.24,-244.03\"/>\n",
       "<text text-anchor=\"middle\" x=\"142.12\" y=\"-254.7\" font-family=\"Times,serif\" font-size=\"14.00\">doc.text &#45;&gt; text</text>\n",
       "</g>\n",
       "<!-- node_1&#45;&gt;node_2 -->\n",
       "<g id=\"edge3\" class=\"edge\">\n",
       "<title>node_1&#45;&gt;node_2</title>\n",
       "<path fill=\"none\" stroke=\"black\" d=\"M166.41,-288.03C173.49,-282.7 180.21,-276 184.12,-268 187.35,-261.41 184.3,-258.83 184.12,-251.5 182.57,-187.89 195.84,-169.32 177.12,-108.5 176.38,-106.09 175.53,-103.68 174.58,-101.28\"/>\n",
       "<polygon fill=\"black\" stroke=\"black\" points=\"177.82,-99.96 170.52,-92.28 171.44,-102.83 177.82,-99.96\"/>\n",
       "<text text-anchor=\"middle\" x=\"216.87\" y=\"-191.45\" font-family=\"Times,serif\" font-size=\"14.00\">doc &#45;&gt; doc</text>\n",
       "</g>\n",
       "</g>\n",
       "</svg>\n"
      ],
      "text/plain": [
       "<graphviz.graphs.Digraph>"
      ]
     },
     "metadata": {},
     "output_type": "display_data"
    }
   ],
   "source": [
    "with Define('add_description_to_doc',type='flow') as AddDesc:\n",
    "    V('get_description',topic_summarizer,inputs=['Start(text=doc.text)'])\n",
    "    V('End',StructureJson('text=description','id=doc.id','metadata.full_text=doc.text'),\n",
    "        inputs=['Start(doc=doc)',\n",
    "        'get_description(description=content)'\n",
    "        ])"
   ]
  },
  {
   "cell_type": "code",
   "execution_count": null,
   "metadata": {},
   "outputs": [
    {
     "data": {
      "text/plain": [
       "{'text': 'Description of elephants, arctic foxes, and octopuses, highlighting their intelligence, adaptability, and unique features.',\n",
       " 'id': 'animal_book',\n",
       " 'metadata': {'full_text': \"\\nThe elephant is one of the most remarkable creatures on Earth. Known for their intelligence and complex social structures, elephants form deep family bonds that can last a lifetime. These gentle giants possess remarkable memory capabilities and demonstrate emotional behaviors like mourning their dead. Their distinctive trunks, containing over 40,000 muscles, serve multiple purposes from gathering food to expressing affection.\\n\\nThe arctic fox is a fascinating animal that has adapted perfectly to life in the extreme cold. During winter, its thick white fur provides both insulation and camouflage in the snowy landscape, while in summer its coat turns brownish-gray to blend with the tundra. These resourceful predators can survive temperatures as low as -50°C (-58°F) and will travel vast distances across the Arctic ice in search of food, often following polar bears to scavenge their leftovers.\\n\\nThe octopus stands out as one of the ocean's most intelligent invertebrates. With nine brains (one central brain and eight additional ones in each arm), these cephalopods can solve complex puzzles, open jars, and even use tools. Their remarkable ability to change both color and texture allows them to perfectly mimic their surroundings, making them masters of disguise. Despite their impressive capabilities, most octopus species live only 1-2 years, making their intelligence even more remarkable given their short lifespan.\\n\"}}"
      ]
     },
     "execution_count": null,
     "metadata": {},
     "output_type": "execute_result"
    }
   ],
   "source": [
    "add_desc = AddDesc()\n",
    "for trace in add_desc.run({'doc':sample_doc}):\n",
    "    # trace.pprint()\n",
    "    pass\n",
    "add_desc.output\n"
   ]
  },
  {
   "cell_type": "code",
   "execution_count": null,
   "metadata": {},
   "outputs": [
    {
     "data": {
      "image/svg+xml": [
       "<?xml version=\"1.0\" encoding=\"UTF-8\" standalone=\"no\"?>\n",
       "<!DOCTYPE svg PUBLIC \"-//W3C//DTD SVG 1.1//EN\"\n",
       " \"http://www.w3.org/Graphics/SVG/1.1/DTD/svg11.dtd\">\n",
       "<!-- Generated by graphviz version 12.2.1 (20241206.2353)\n",
       " -->\n",
       "<!-- Title: Distilation Rag Uploader Pages: 1 -->\n",
       "<svg width=\"385pt\" height=\"432pt\"\n",
       " viewBox=\"0.00 0.00 385.20 431.50\" xmlns=\"http://www.w3.org/2000/svg\" xmlns:xlink=\"http://www.w3.org/1999/xlink\">\n",
       "<g id=\"graph0\" class=\"graph\" transform=\"scale(1 1) rotate(0) translate(4 427.5)\">\n",
       "<title>Distilation Rag Uploader</title>\n",
       "<polygon fill=\"white\" stroke=\"none\" points=\"-4,4 -4,-427.5 381.2,-427.5 381.2,4 -4,4\"/>\n",
       "<text text-anchor=\"middle\" x=\"188.6\" y=\"-406.2\" font-family=\"Times,serif\" font-size=\"14.00\">Distilation Rag Uploader</text>\n",
       "<!-- node_0 -->\n",
       "<g id=\"node1\" class=\"node\">\n",
       "<title>node_0</title>\n",
       "<polygon fill=\"#ececff\" stroke=\"#9370db\" stroke-width=\"2\" points=\"189.62,-310.5 92.62,-310.5 92.62,-236.5 189.62,-236.5 189.62,-310.5\"/>\n",
       "<text text-anchor=\"middle\" x=\"141.12\" y=\"-293.2\" font-family=\"Times,serif\" font-size=\"14.00\">split_texts[</text>\n",
       "<text text-anchor=\"middle\" x=\"141.12\" y=\"-276.7\" font-family=\"Times,serif\" font-size=\"14.00\">splitter,</text>\n",
       "<text text-anchor=\"middle\" x=\"141.12\" y=\"-260.2\" font-family=\"Times,serif\" font-size=\"14.00\">foreach=[doc],</text>\n",
       "<text text-anchor=\"middle\" x=\"141.12\" y=\"-243.7\" font-family=\"Times,serif\" font-size=\"14.00\">flat=True ]</text>\n",
       "</g>\n",
       "<!-- node_2 -->\n",
       "<g id=\"node3\" class=\"node\">\n",
       "<title>node_2</title>\n",
       "<polygon fill=\"#ececff\" stroke=\"#9370db\" stroke-width=\"2\" points=\"234.25,-167.5 0,-167.5 0,-110 234.25,-110 234.25,-167.5\"/>\n",
       "<text text-anchor=\"middle\" x=\"117.12\" y=\"-150.2\" font-family=\"Times,serif\" font-size=\"14.00\">add_description[</text>\n",
       "<text text-anchor=\"middle\" x=\"117.12\" y=\"-133.7\" font-family=\"Times,serif\" font-size=\"14.00\">FlowDiagram(add_description_to_doc),</text>\n",
       "<text text-anchor=\"middle\" x=\"117.12\" y=\"-117.2\" font-family=\"Times,serif\" font-size=\"14.00\">foreach=[doc] ]</text>\n",
       "</g>\n",
       "<!-- node_0&#45;&gt;node_2 -->\n",
       "<g id=\"edge1\" class=\"edge\">\n",
       "<title>node_0&#45;&gt;node_2</title>\n",
       "<path fill=\"none\" stroke=\"black\" d=\"M134.57,-236.23C131.36,-218.51 127.5,-197.16 124.23,-179.06\"/>\n",
       "<polygon fill=\"black\" stroke=\"black\" points=\"127.72,-178.69 122.5,-169.47 120.83,-179.94 127.72,-178.69\"/>\n",
       "<text text-anchor=\"middle\" x=\"153.02\" y=\"-196.95\" font-family=\"Times,serif\" font-size=\"14.00\">. &#45;&gt; doc</text>\n",
       "</g>\n",
       "<!-- node_1 -->\n",
       "<g id=\"node2\" class=\"node\">\n",
       "<title>node_1</title>\n",
       "<polygon fill=\"#ececff\" stroke=\"#9370db\" points=\"217.12,-399 163.12,-399 163.12,-363 217.12,-363 217.12,-399\"/>\n",
       "<text text-anchor=\"middle\" x=\"190.12\" y=\"-375.95\" font-family=\"Times,serif\" font-size=\"14.00\">Start</text>\n",
       "</g>\n",
       "<!-- node_1&#45;&gt;node_0 -->\n",
       "<g id=\"edge2\" class=\"edge\">\n",
       "<title>node_1&#45;&gt;node_0</title>\n",
       "<path fill=\"none\" stroke=\"black\" d=\"M182.03,-362.58C176.73,-351.17 169.54,-335.67 162.66,-320.86\"/>\n",
       "<polygon fill=\"black\" stroke=\"black\" points=\"166,-319.74 158.61,-312.14 159.65,-322.69 166,-319.74\"/>\n",
       "<text text-anchor=\"middle\" x=\"205.13\" y=\"-331.7\" font-family=\"Times,serif\" font-size=\"14.00\">docs &#45;&gt; doc</text>\n",
       "</g>\n",
       "<!-- node_3 -->\n",
       "<g id=\"node4\" class=\"node\">\n",
       "<title>node_3</title>\n",
       "<polygon fill=\"#ececff\" stroke=\"#9370db\" points=\"255.12,-57.5 125.12,-57.5 125.12,0 255.12,0 255.12,-57.5\"/>\n",
       "<text text-anchor=\"middle\" x=\"190.12\" y=\"-40.2\" font-family=\"Times,serif\" font-size=\"14.00\">End[</text>\n",
       "<text text-anchor=\"middle\" x=\"190.12\" y=\"-23.7\" font-family=\"Times,serif\" font-size=\"14.00\">ChromaClient.upsert</text>\n",
       "<text text-anchor=\"middle\" x=\"190.12\" y=\"-7.2\" font-family=\"Times,serif\" font-size=\"14.00\">]</text>\n",
       "</g>\n",
       "<!-- node_1&#45;&gt;node_3 -->\n",
       "<g id=\"edge3\" class=\"edge\">\n",
       "<title>node_1&#45;&gt;node_3</title>\n",
       "<path fill=\"none\" stroke=\"black\" d=\"M217.42,-367.89C226.64,-362.33 235.92,-354.76 241.12,-345 290.31,-252.86 273.18,-210.03 243.12,-110 238.52,-94.69 229.95,-79.6 221.02,-66.72\"/>\n",
       "<polygon fill=\"black\" stroke=\"black\" points=\"224.1,-65.01 215.39,-58.98 218.44,-69.12 224.1,-65.01\"/>\n",
       "<text text-anchor=\"middle\" x=\"323.95\" y=\"-205.2\" font-family=\"Times,serif\" font-size=\"14.00\">collection_name &#45;&gt;</text>\n",
       "<text text-anchor=\"middle\" x=\"323.95\" y=\"-188.7\" font-family=\"Times,serif\" font-size=\"14.00\">collection_name</text>\n",
       "</g>\n",
       "<!-- node_2&#45;&gt;node_3 -->\n",
       "<g id=\"edge4\" class=\"edge\">\n",
       "<title>node_2&#45;&gt;node_3</title>\n",
       "<path fill=\"none\" stroke=\"black\" d=\"M136.11,-109.66C144.9,-96.66 155.46,-81.03 164.91,-67.06\"/>\n",
       "<polygon fill=\"black\" stroke=\"black\" points=\"167.68,-69.2 170.38,-58.96 161.88,-65.28 167.68,-69.2\"/>\n",
       "<text text-anchor=\"middle\" x=\"182.37\" y=\"-78.7\" font-family=\"Times,serif\" font-size=\"14.00\">. &#45;&gt; docs</text>\n",
       "</g>\n",
       "</g>\n",
       "</svg>\n"
      ],
      "text/plain": [
       "<graphviz.graphs.Digraph>"
      ]
     },
     "metadata": {},
     "output_type": "display_data"
    }
   ],
   "source": [
    "# TODO consider adding zip to stringdale foreach syntax\n",
    "with Define('Distilation Rag Uploader',type='flow') as DistRagUpload:\n",
    "    V('split_texts',splitter,inputs=['Start(doc=docs)'],for_each=['doc'],flat=True)\n",
    "    V('add_description',AddDesc,\n",
    "        inputs=['split_texts(doc=.)'],\n",
    "        for_each=['doc'])\n",
    "    V('End',chroma_client.upsert,inputs=['add_description(docs)','Start(collection_name=collection_name)'])\n"
   ]
  },
  {
   "cell_type": "code",
   "execution_count": null,
   "metadata": {},
   "outputs": [
    {
     "data": {
      "text/plain": [
       "[{'text': 'Description of elephants as intelligent and social animals with strong family bonds.',\n",
       "  'id': 'animal_book_0',\n",
       "  'metadata': {'full_text': 'The elephant is one of the most remarkable creatures on Earth. Known for their intelligence and complex social structures, elephants form deep family bonds that can last a lifetime. These gentle giants possess remarkable memory capabilities and demonstrate emotional behaviors like mourning their dead. Their distinctive trunks, containing over 40,000 muscles, serve multiple purposes from gathering food to expressing affection.'}},\n",
       " {'text': 'The arctic fox is a well-adapted animal for extreme cold, with thick white fur for insulation and camouflage in winter, turning brownish-gray in summer. It survives temperatures as low as -50°C and scavenges from polar bears across the Arctic ice.',\n",
       "  'id': 'animal_book_1',\n",
       "  'metadata': {'full_text': 'The arctic fox is a fascinating animal that has adapted perfectly to life in the extreme cold. During winter, its thick white fur provides both insulation and camouflage in the snowy landscape, while in summer its coat turns brownish-gray to blend with the tundra. These resourceful predators can survive temperatures as low as -50°C (-58°F) and will travel vast distances across the Arctic ice in search of food, often following polar bears to scavenge their leftovers.'}},\n",
       " {'text': 'Description of octopuses as intelligent invertebrates with unique abilities.',\n",
       "  'id': 'animal_book_2',\n",
       "  'metadata': {'full_text': \"The octopus stands out as one of the ocean's most intelligent invertebrates. With nine brains (one central brain and eight additional ones in each arm), these cephalopods can solve complex puzzles, open jars, and even use tools. Their remarkable ability to change both color and texture allows them to perfectly mimic their surroundings, making them masters of disguise. Despite their impressive capabilities, most octopus species live only 1-2 years, making their intelligence even more remarkable given their short lifespan.\"}}]"
      ]
     },
     "execution_count": null,
     "metadata": {},
     "output_type": "execute_result"
    }
   ],
   "source": [
    "chroma_client.add_collection(\"animal_book\",exists_ok=True)\n",
    "d = DistRagUpload()\n",
    "for trace in d.run({'docs':[sample_doc],'collection_name':'animal_book'}):\n",
    "    # trace.pprint()\n",
    "    pass\n",
    "\n",
    "d.output\n"
   ]
  },
  {
   "cell_type": "code",
   "execution_count": null,
   "metadata": {},
   "outputs": [
    {
     "data": {
      "text/plain": [
       "[{'id': 'animal_book_0',\n",
       "  'text': 'Description of elephants as intelligent and social animals with strong family bonds.',\n",
       "  'metadata': {'full_text': 'The elephant is one of the most remarkable creatures on Earth. Known for their intelligence and complex social structures, elephants form deep family bonds that can last a lifetime. These gentle giants possess remarkable memory capabilities and demonstrate emotional behaviors like mourning their dead. Their distinctive trunks, containing over 40,000 muscles, serve multiple purposes from gathering food to expressing affection.'},\n",
       "  'embedding': array([ 0.06449884,  0.02342647, -0.02490086, ...,  0.00664062,\n",
       "         -0.00696826,  0.02305202])},\n",
       " {'id': 'animal_book_1',\n",
       "  'text': 'The arctic fox is a well-adapted animal for extreme cold, with thick white fur for insulation and camouflage in winter, turning brownish-gray in summer. It survives temperatures as low as -50°C and scavenges from polar bears across the Arctic ice.',\n",
       "  'metadata': {'full_text': 'The arctic fox is a fascinating animal that has adapted perfectly to life in the extreme cold. During winter, its thick white fur provides both insulation and camouflage in the snowy landscape, while in summer its coat turns brownish-gray to blend with the tundra. These resourceful predators can survive temperatures as low as -50°C (-58°F) and will travel vast distances across the Arctic ice in search of food, often following polar bears to scavenge their leftovers.'},\n",
       "  'embedding': array([-0.02050381,  0.00120946,  0.00811564, ...,  0.00389746,\n",
       "         -0.02793997,  0.02572217])},\n",
       " {'id': 'animal_book_2',\n",
       "  'text': 'Description of octopuses as intelligent invertebrates with unique abilities.',\n",
       "  'metadata': {'full_text': \"The octopus stands out as one of the ocean's most intelligent invertebrates. With nine brains (one central brain and eight additional ones in each arm), these cephalopods can solve complex puzzles, open jars, and even use tools. Their remarkable ability to change both color and texture allows them to perfectly mimic their surroundings, making them masters of disguise. Despite their impressive capabilities, most octopus species live only 1-2 years, making their intelligence even more remarkable given their short lifespan.\"},\n",
       "  'embedding': array([ 0.03985221,  0.04562302, -0.01292609, ..., -0.00327196,\n",
       "          0.00185028, -0.0030714 ])}]"
      ]
     },
     "execution_count": null,
     "metadata": {},
     "output_type": "execute_result"
    }
   ],
   "source": [
    "chroma_client.list('animal_book')"
   ]
  },
  {
   "cell_type": "markdown",
   "metadata": {},
   "source": [
    "## Query docs\n"
   ]
  },
  {
   "cell_type": "code",
   "execution_count": null,
   "metadata": {},
   "outputs": [
    {
     "name": "stdout",
     "output_type": "stream",
     "text": [
      "{'content': 'Descriptions of lion chocolates.',\n",
      " 'meta': {'input_tokens': 220, 'output_tokens': 13},\n",
      " 'role': 'assistant'}\n"
     ]
    }
   ],
   "source": [
    "distilled_query = topic_summarizer = Chat(model='gpt-4o-mini',\n",
    "    messages=[\n",
    "        {'role':'system','content':'''\n",
    "        You are a helpful assistant that predicts what kind of summaries will be helpful for a given query.\n",
    "        Here are some examples:\n",
    "        query:\n",
    "        I have an elephant and a dog. What is the most important thing about them?\n",
    "        Summaries:\n",
    "        Descriptions of elephants.\n",
    "        Descriptions of dogs.\n",
    "        query:\n",
    "        What is the most important thing about elephants?\n",
    "        Summaries:\n",
    "        Descriptions of elephants.\n",
    "        query:\n",
    "        What is the most important thing about dogs?\n",
    "        Summaries:\n",
    "        Description of dogs as pets.\n",
    "        '''},\n",
    "        {'role':'user','content':'query:{{query}}'},\n",
    "        {'role':'assistant','content':'summaries:'}\n",
    "\n",
    "    ])\n",
    "\n",
    "res = await distilled_query(query=\"I need help with my lion choco\")\n",
    "pprint(res)"
   ]
  },
  {
   "cell_type": "code",
   "execution_count": null,
   "metadata": {},
   "outputs": [],
   "source": [
    "full_text_rag_prompt = [\n",
    "            {'role':'system','content':'''\n",
    "            You are a helpful assistant that answers questions about animals.\n",
    "\n",
    "            Here are some examples of how to answer questions about animals:\n",
    "            {% for example in examples %}\n",
    "            Question: {{example['question']}}\n",
    "            Answer: {{example['answer']}}\n",
    "            {% endfor %}\n",
    "\n",
    "            I found the following documents that may be relevant to the user's question:\n",
    "            {% for doc in docs %}\n",
    "            {{doc['metadata']['full_text']}}\n",
    "            {% endfor %}\n",
    "            '''},\n",
    "            {'role':'user','content':'{{input}}'},\n",
    "            ]\n",
    "\n",
    "style_examples = [\n",
    "    {\n",
    "        'question': \"What are the key traits of Pandas?\",\n",
    "        'answer': \"\"\"Here are the key traits of Pandas:\n",
    "            • Pandas are a type of bear\n",
    "            • They are native to South America\n",
    "            • They are known for their black and white fur\n",
    "            • They are known for their love of bamboo\"\"\"\n",
    "    },\n",
    "    {\n",
    "        'question': \"What are the key traits of Lions?\",\n",
    "        'answer': \"\"\"Here are the key traits of Lions:\n",
    "            • Lions are a type of bear\n",
    "            • They are native to Africa\n",
    "            • They are known for their mane of hair\"\"\"\n",
    "    }\n",
    "]\n",
    "full_text_rag_chat = Chat(model='gpt-4o-mini',messages=full_text_rag_prompt,examples=style_examples)"
   ]
  },
  {
   "cell_type": "code",
   "execution_count": null,
   "metadata": {},
   "outputs": [
    {
     "data": {
      "image/svg+xml": [
       "<?xml version=\"1.0\" encoding=\"UTF-8\" standalone=\"no\"?>\n",
       "<!DOCTYPE svg PUBLIC \"-//W3C//DTD SVG 1.1//EN\"\n",
       " \"http://www.w3.org/Graphics/SVG/1.1/DTD/svg11.dtd\">\n",
       "<!-- Generated by graphviz version 12.2.1 (20241206.2353)\n",
       " -->\n",
       "<!-- Title: Distilled RAG Pages: 1 -->\n",
       "<svg width=\"412pt\" height=\"488pt\"\n",
       " viewBox=\"0.00 0.00 411.83 488.00\" xmlns=\"http://www.w3.org/2000/svg\" xmlns:xlink=\"http://www.w3.org/1999/xlink\">\n",
       "<g id=\"graph0\" class=\"graph\" transform=\"scale(1 1) rotate(0) translate(4 484)\">\n",
       "<title>Distilled RAG</title>\n",
       "<polygon fill=\"white\" stroke=\"none\" points=\"-4,4 -4,-484 407.83,-484 407.83,4 -4,4\"/>\n",
       "<text text-anchor=\"middle\" x=\"201.91\" y=\"-462.7\" font-family=\"Times,serif\" font-size=\"14.00\">Distilled RAG</text>\n",
       "<!-- node_0 -->\n",
       "<g id=\"node1\" class=\"node\">\n",
       "<title>node_0</title>\n",
       "<polygon fill=\"#ececff\" stroke=\"#9370db\" points=\"162.25,-367 0,-367 0,-293 162.25,-293 162.25,-367\"/>\n",
       "<text text-anchor=\"middle\" x=\"81.12\" y=\"-349.7\" font-family=\"Times,serif\" font-size=\"14.00\">distill_query[</text>\n",
       "<text text-anchor=\"middle\" x=\"81.12\" y=\"-333.2\" font-family=\"Times,serif\" font-size=\"14.00\">Chat(model=&#39;gpt&#45;4o&#45;mini&#39;,</text>\n",
       "<text text-anchor=\"middle\" x=\"81.12\" y=\"-316.7\" font-family=\"Times,serif\" font-size=\"14.00\">required_keys={&#39;query&#39;},</text>\n",
       "<text text-anchor=\"middle\" x=\"81.12\" y=\"-300.2\" font-family=\"Times,serif\" font-size=\"14.00\">seed=42) ]</text>\n",
       "</g>\n",
       "<!-- node_2 -->\n",
       "<g id=\"node3\" class=\"node\">\n",
       "<title>node_2</title>\n",
       "<polygon fill=\"#ececff\" stroke=\"#9370db\" points=\"266.12,-240.5 130.12,-240.5 130.12,-199.5 266.12,-199.5 266.12,-240.5\"/>\n",
       "<text text-anchor=\"middle\" x=\"198.12\" y=\"-223.2\" font-family=\"Times,serif\" font-size=\"14.00\">get_docs[</text>\n",
       "<text text-anchor=\"middle\" x=\"198.12\" y=\"-206.7\" font-family=\"Times,serif\" font-size=\"14.00\">ChromaClient.query ]</text>\n",
       "</g>\n",
       "<!-- node_0&#45;&gt;node_2 -->\n",
       "<g id=\"edge1\" class=\"edge\">\n",
       "<title>node_0&#45;&gt;node_2</title>\n",
       "<path fill=\"none\" stroke=\"black\" d=\"M80.36,-292.59C81.83,-280.59 85.46,-267.91 93.38,-258.5 100.51,-250.02 109.71,-243.46 119.69,-238.38\"/>\n",
       "<polygon fill=\"black\" stroke=\"black\" points=\"120.82,-241.71 128.5,-234.4 117.95,-235.33 120.82,-241.71\"/>\n",
       "<text text-anchor=\"middle\" x=\"138.75\" y=\"-261.7\" font-family=\"Times,serif\" font-size=\"14.00\">content &#45;&gt; query</text>\n",
       "</g>\n",
       "<!-- node_1 -->\n",
       "<g id=\"node2\" class=\"node\">\n",
       "<title>node_1</title>\n",
       "<polygon fill=\"#ececff\" stroke=\"#9370db\" points=\"225.12,-455.5 171.12,-455.5 171.12,-419.5 225.12,-419.5 225.12,-455.5\"/>\n",
       "<text text-anchor=\"middle\" x=\"198.12\" y=\"-432.45\" font-family=\"Times,serif\" font-size=\"14.00\">Start</text>\n",
       "</g>\n",
       "<!-- node_1&#45;&gt;node_0 -->\n",
       "<g id=\"edge2\" class=\"edge\">\n",
       "<title>node_1&#45;&gt;node_0</title>\n",
       "<path fill=\"none\" stroke=\"black\" d=\"M170.98,-433.24C149.55,-429.27 120.36,-420.55 102.38,-401.5 96.21,-394.96 91.82,-386.7 88.71,-378.15\"/>\n",
       "<polygon fill=\"black\" stroke=\"black\" points=\"92.1,-377.28 85.85,-368.72 85.4,-379.31 92.1,-377.28\"/>\n",
       "<text text-anchor=\"middle\" x=\"143.25\" y=\"-388.2\" font-family=\"Times,serif\" font-size=\"14.00\">query &#45;&gt; query</text>\n",
       "</g>\n",
       "<!-- node_1&#45;&gt;node_2 -->\n",
       "<g id=\"edge3\" class=\"edge\">\n",
       "<title>node_1&#45;&gt;node_2</title>\n",
       "<path fill=\"none\" stroke=\"black\" d=\"M198.12,-419.23C198.12,-382.92 198.12,-298.25 198.12,-252.19\"/>\n",
       "<polygon fill=\"black\" stroke=\"black\" points=\"201.63,-252.34 198.13,-242.34 194.63,-252.34 201.63,-252.34\"/>\n",
       "<text text-anchor=\"middle\" x=\"251.38\" y=\"-349.7\" font-family=\"Times,serif\" font-size=\"14.00\">collection_name &#45;&gt;</text>\n",
       "<text text-anchor=\"middle\" x=\"251.38\" y=\"-333.2\" font-family=\"Times,serif\" font-size=\"14.00\">collection_name, k</text>\n",
       "<text text-anchor=\"middle\" x=\"251.38\" y=\"-316.7\" font-family=\"Times,serif\" font-size=\"14.00\">&#45;&gt; k, threshold &#45;&gt;</text>\n",
       "<text text-anchor=\"middle\" x=\"251.38\" y=\"-300.2\" font-family=\"Times,serif\" font-size=\"14.00\">threshold</text>\n",
       "</g>\n",
       "<!-- node_3 -->\n",
       "<g id=\"node4\" class=\"node\">\n",
       "<title>node_3</title>\n",
       "<polygon fill=\"#ececff\" stroke=\"#9370db\" points=\"347.25,-147 185,-147 185,-73 347.25,-73 347.25,-147\"/>\n",
       "<text text-anchor=\"middle\" x=\"266.12\" y=\"-129.7\" font-family=\"Times,serif\" font-size=\"14.00\">chat[</text>\n",
       "<text text-anchor=\"middle\" x=\"266.12\" y=\"-113.2\" font-family=\"Times,serif\" font-size=\"14.00\">Chat(model=&#39;gpt&#45;4o&#45;mini&#39;,</text>\n",
       "<text text-anchor=\"middle\" x=\"266.12\" y=\"-96.7\" font-family=\"Times,serif\" font-size=\"14.00\">required_keys={&#39;input&#39;,</text>\n",
       "<text text-anchor=\"middle\" x=\"266.12\" y=\"-80.2\" font-family=\"Times,serif\" font-size=\"14.00\">&#39;docs&#39;}, seed=42) ]</text>\n",
       "</g>\n",
       "<!-- node_1&#45;&gt;node_3 -->\n",
       "<g id=\"edge4\" class=\"edge\">\n",
       "<title>node_1&#45;&gt;node_3</title>\n",
       "<path fill=\"none\" stroke=\"black\" d=\"M225.31,-428.12C252.06,-418.26 291.39,-399.02 309.12,-367 345.76,-300.84 315.89,-211.41 290.96,-157.65\"/>\n",
       "<polygon fill=\"black\" stroke=\"black\" points=\"294.18,-156.28 286.71,-148.76 287.86,-159.29 294.18,-156.28\"/>\n",
       "<text text-anchor=\"middle\" x=\"364.45\" y=\"-261.7\" font-family=\"Times,serif\" font-size=\"14.00\">query &#45;&gt; input</text>\n",
       "</g>\n",
       "<!-- node_2&#45;&gt;node_3 -->\n",
       "<g id=\"edge5\" class=\"edge\">\n",
       "<title>node_2&#45;&gt;node_3</title>\n",
       "<path fill=\"none\" stroke=\"black\" d=\"M210.6,-199.19C218.08,-187.3 227.93,-171.66 237.26,-156.85\"/>\n",
       "<polygon fill=\"black\" stroke=\"black\" points=\"240.11,-158.89 242.47,-148.57 234.18,-155.16 240.11,-158.89\"/>\n",
       "<text text-anchor=\"middle\" x=\"256.5\" y=\"-168.2\" font-family=\"Times,serif\" font-size=\"14.00\">. &#45;&gt; docs</text>\n",
       "</g>\n",
       "<!-- node_4 -->\n",
       "<g id=\"node5\" class=\"node\">\n",
       "<title>node_4</title>\n",
       "<polygon fill=\"#ececff\" stroke=\"#9370db\" points=\"293.12,-36 239.12,-36 239.12,0 293.12,0 293.12,-36\"/>\n",
       "<text text-anchor=\"middle\" x=\"266.12\" y=\"-12.95\" font-family=\"Times,serif\" font-size=\"14.00\">End</text>\n",
       "</g>\n",
       "<!-- node_3&#45;&gt;node_4 -->\n",
       "<g id=\"edge6\" class=\"edge\">\n",
       "<title>node_3&#45;&gt;node_4</title>\n",
       "<path fill=\"none\" stroke=\"black\" d=\"M266.12,-72.65C266.12,-64.36 266.12,-55.66 266.12,-47.73\"/>\n",
       "<polygon fill=\"black\" stroke=\"black\" points=\"269.63,-47.97 266.13,-37.97 262.63,-47.97 269.63,-47.97\"/>\n",
       "</g>\n",
       "</g>\n",
       "</svg>\n"
      ],
      "text/plain": [
       "<graphviz.graphs.Digraph>"
      ]
     },
     "metadata": {},
     "output_type": "display_data"
    }
   ],
   "source": [
    "with Define('Distilled RAG',type='flow') as DistRag:\n",
    "    V('distill_query',distilled_query,\n",
    "        inputs=['Start(query=query)'],\n",
    "    )\n",
    "    V('get_docs',chroma_client.query,\n",
    "        inputs=['distill_query(query=content)','Start(collection_name=collection_name,k=k,threshold=threshold)'],\n",
    "    )\n",
    "    V('chat',full_text_rag_chat,\n",
    "        inputs=['get_docs(docs)','Start(input=query)'],\n",
    "        outputs=['End']\n",
    "    )\n",
    "    "
   ]
  },
  {
   "cell_type": "code",
   "execution_count": null,
   "metadata": {},
   "outputs": [
    {
     "name": "stdout",
     "output_type": "stream",
     "text": [
      "Node Start:\n",
      "{ 'input': { 'collection_name': 'animal_book',\n",
      "             'k': 2,\n",
      "             'query': 'I need help with my elephant choco',\n",
      "             'threshold': 1},\n",
      "  'output': { 'collection_name': 'animal_book',\n",
      "              'k': 2,\n",
      "              'query': 'I need help with my elephant choco',\n",
      "              'threshold': 1}}\n",
      "================================================================================\n",
      "Node distill_query:\n",
      "{ 'input': {'query': 'I need help with my elephant choco'},\n",
      "  'output': { 'content': 'Descriptions of elephants and care tips for pet '\n",
      "                         'elephants.',\n",
      "              'meta': {'input_tokens': 220, 'output_tokens': 18},\n",
      "              'role': 'assistant'}}\n",
      "================================================================================\n",
      "Node get_docs:\n",
      "{ 'input': { 'collection_name': 'animal_book',\n",
      "             'k': 2,\n",
      "             'query': 'Descriptions of elephants and care tips for pet '\n",
      "                      'elephants.',\n",
      "             'threshold': 1},\n",
      "  'output': [ { 'distance': 0.758659303188324,\n",
      "                'id': 'animal_book_0',\n",
      "                'metadata': { 'full_text': 'The elephant is one of the most '\n",
      "                                           'remarkable creatures on Earth. '\n",
      "                                           'Known for their intelligence and '\n",
      "                                           'complex social structures, '\n",
      "                                           'elephants form deep family bonds '\n",
      "                                           'that can last a lifetime. These '\n",
      "                                           'gentle giants possess remarkable '\n",
      "                                           'memory capabilities and '\n",
      "                                           'demonstrate emotional behaviors '\n",
      "                                           'like mourning their dead. Their '\n",
      "                                           'distinctive trunks, containing '\n",
      "                                           'over 40,000 muscles, serve '\n",
      "                                           'multiple purposes from gathering '\n",
      "                                           'food to expressing affection.'},\n",
      "                'text': 'Description of elephants as intelligent and social '\n",
      "                        'animals with strong family bonds.'}]}\n",
      "================================================================================\n",
      "Node chat:\n",
      "{ 'input': { 'docs': [ { 'distance': 0.758659303188324,\n",
      "                         'id': 'animal_book_0',\n",
      "                         'metadata': { 'full_text': 'The elephant is one of '\n",
      "                                                    'the most remarkable '\n",
      "                                                    'creatures on Earth. Known '\n",
      "                                                    'for their intelligence '\n",
      "                                                    'and complex social '\n",
      "                                                    'structures, elephants '\n",
      "                                                    'form deep family bonds '\n",
      "                                                    'that can last a lifetime. '\n",
      "                                                    'These gentle giants '\n",
      "                                                    'possess remarkable memory '\n",
      "                                                    'capabilities and '\n",
      "                                                    'demonstrate emotional '\n",
      "                                                    'behaviors like mourning '\n",
      "                                                    'their dead. Their '\n",
      "                                                    'distinctive trunks, '\n",
      "                                                    'containing over 40,000 '\n",
      "                                                    'muscles, serve multiple '\n",
      "                                                    'purposes from gathering '\n",
      "                                                    'food to expressing '\n",
      "                                                    'affection.'},\n",
      "                         'text': 'Description of elephants as intelligent and '\n",
      "                                 'social animals with strong family bonds.'}],\n",
      "             'input': 'I need help with my elephant choco'},\n",
      "  'output': { 'content': 'Here are the key traits of Elephants: • Elephants '\n",
      "                         'are known for their intelligence and complex social '\n",
      "                         'structures. • They form deep family bonds that can '\n",
      "                         'last a lifetime. • Elephants possess remarkable '\n",
      "                         'memory capabilities. • They demonstrate emotional '\n",
      "                         'behaviors, such as mourning their dead. • Their '\n",
      "                         'distinctive trunks contain over 40,000 muscles and '\n",
      "                         'serve multiple purposes, including gathering food '\n",
      "                         'and expressing affection.',\n",
      "              'meta': {'input_tokens': 332, 'output_tokens': 85},\n",
      "              'role': 'assistant'}}\n",
      "================================================================================\n",
      "Node End:\n",
      "{ 'input': { 0: { 'content': 'Here are the key traits of Elephants: • '\n",
      "                             'Elephants are known for their intelligence and '\n",
      "                             'complex social structures. • They form deep '\n",
      "                             'family bonds that can last a lifetime. • '\n",
      "                             'Elephants possess remarkable memory '\n",
      "                             'capabilities. • They demonstrate emotional '\n",
      "                             'behaviors, such as mourning their dead. • Their '\n",
      "                             'distinctive trunks contain over 40,000 muscles '\n",
      "                             'and serve multiple purposes, including gathering '\n",
      "                             'food and expressing affection.',\n",
      "                  'meta': {'input_tokens': 332, 'output_tokens': 85},\n",
      "                  'role': 'assistant'}},\n",
      "  'output': { 'content': 'Here are the key traits of Elephants: • Elephants '\n",
      "                         'are known for their intelligence and complex social '\n",
      "                         'structures. • They form deep family bonds that can '\n",
      "                         'last a lifetime. • Elephants possess remarkable '\n",
      "                         'memory capabilities. • They demonstrate emotional '\n",
      "                         'behaviors, such as mourning their dead. • Their '\n",
      "                         'distinctive trunks contain over 40,000 muscles and '\n",
      "                         'serve multiple purposes, including gathering food '\n",
      "                         'and expressing affection.',\n",
      "              'meta': {'input_tokens': 332, 'output_tokens': 85},\n",
      "              'role': 'assistant'}}\n",
      "================================================================================\n",
      "{'content': 'Here are the key traits of Elephants: • Elephants are known for '\n",
      "            'their intelligence and complex social structures. • They form '\n",
      "            'deep family bonds that can last a lifetime. • Elephants possess '\n",
      "            'remarkable memory capabilities. • They demonstrate emotional '\n",
      "            'behaviors, such as mourning their dead. • Their distinctive '\n",
      "            'trunks contain over 40,000 muscles and serve multiple purposes, '\n",
      "            'including gathering food and expressing affection.',\n",
      " 'meta': {'input_tokens': 332, 'output_tokens': 85},\n",
      " 'role': 'assistant'}\n"
     ]
    }
   ],
   "source": [
    "d=DistRag()\n",
    "for trace in d.run({'query':'I need help with my elephant choco','collection_name':'animal_book','k':2,'threshold':1}):\n",
    "    trace.pprint()\n",
    "    pass\n",
    "pprint(d.output)"
   ]
  }
 ],
 "metadata": {
  "kernelspec": {
   "display_name": "python3",
   "language": "python",
   "name": "python3"
  }
 },
 "nbformat": 4,
 "nbformat_minor": 2
}
