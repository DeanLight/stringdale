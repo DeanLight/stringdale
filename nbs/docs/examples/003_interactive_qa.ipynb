{
 "cells": [
  {
   "cell_type": "markdown",
   "metadata": {},
   "source": [
    "## Filling out missing user data"
   ]
  },
  {
   "cell_type": "code",
   "execution_count": null,
   "metadata": {},
   "outputs": [],
   "source": [
    "#| hide\n",
    "%load_ext autoreload\n",
    "%autoreload 2\n"
   ]
  },
  {
   "cell_type": "code",
   "execution_count": null,
   "metadata": {},
   "outputs": [],
   "source": [
    "# | hide\n",
    "from stringdale.core import get_git_root, load_env, checkLogs, json_render\n",
    "\n",
    "load_env()\n",
    "\n",
    "import pytest"
   ]
  },
  {
   "cell_type": "code",
   "execution_count": null,
   "metadata": {},
   "outputs": [],
   "source": [
    "from pathlib import Path\n",
    "from pprint import pprint\n",
    "from pydantic import BaseModel,Field\n",
    "from typing import Union,Literal,Optional\n",
    "from sqlmodel import SQLModel, Session, select, Field\n",
    "\n",
    "from stringdale.diagrams import (\n",
    "    Define,Scope,\n",
    "    V,E,\n",
    "    draw_diagram\n",
    ")\n",
    "from stringdale.core import has_missing\n",
    "from stringdale.chat import Chat\n",
    "from stringdale.std import Condition as C"
   ]
  },
  {
   "cell_type": "code",
   "execution_count": null,
   "metadata": {},
   "outputs": [],
   "source": [
    "def fill_missing_data_agent(model:BaseModel,diagram_name:str=None):\n",
    "    \"\"\"\n",
    "    This is a diagram factory that takes a model as an argument and returns\n",
    "    a diagram that fills in the missing data.\n",
    "\n",
    "    If diagram_name is not provided, it will be generated from the model name.\n",
    "    Args:\n",
    "        model: A Pydantic BaseModel that defines the schema for the data to collect\n",
    "            to avoid halucinations, model fields should optionally be Missing\n",
    "        diagram_name: Optional name for the diagram. If not provided, will use the model name\n",
    "\n",
    "    Returns:\n",
    "        A Diagram that interactively collects data matching the provided model schema\n",
    "        by prompting the user for missing fields until all required data is gathered.\n",
    "\n",
    "    Example:\n",
    "        >>> from pydantic import BaseModel\n",
    "        >>> from typing import Union\n",
    "        >>> from stringdale.core import Missing\n",
    "        >>> class UserInfo(BaseModel):\n",
    "        ...     name: Union[str,Missing]\n",
    "        ...     age: Union[int,Missing]\n",
    "        ...     email: Union[str,Missing]\n",
    "        >>> diagram = fill_missing_data_agent(UserInfo)\n",
    "        >>> # Will interactively prompt for name, age, and email\n",
    "    \"\"\"\n",
    "\n",
    "    if diagram_name is None:\n",
    "        diagram_name = f'fill_missing_data_{model.__name__}'\n",
    "\n",
    "    has_missing_data = C(has_missing,'(0=content)',name='has_missing_data')\n",
    "\n",
    "    ask_missing_data = Chat(\n",
    "        model='gpt-4o-mini',\n",
    "        messages=[\n",
    "            {'role':'system','content':'''\n",
    "            You are a helpful assistant asks the user for missing information.\n",
    "            The information we have so far is:\n",
    "            {{current_info}}\n",
    "            Ask the user for the missing information.\n",
    "            '''}])\n",
    "\n",
    "    format_new_info = Chat(\n",
    "        model='gpt-4o-mini',\n",
    "        messages=[\n",
    "            {'role':'system','content':'''\n",
    "            You are a helpful assistant that gets user data and makes sure it is complete.\n",
    "            If you are not sure that you were given the relevant information, put MISSING in the relevant field.\n",
    "            {% if current_info %}\n",
    "            The information we have so far is:\n",
    "            {{current_info}}\n",
    "            {% endif %}\n",
    "            Ask the user for the missing information.\n",
    "            '''},\n",
    "            {'role':'user','content':'{{input}}'},\n",
    "        ],\n",
    "        output_schema=model)\n",
    "\n",
    "    with Define(diagram_name,type='decision') as D:\n",
    "\n",
    "        V('Start',\n",
    "            outputs=[('ask_missing_data(_)',has_missing_data),\n",
    "            'End',\n",
    "            'state/current_info'\n",
    "        ])\n",
    "\n",
    "        V('ask_missing_data',ask_missing_data,\n",
    "            inputs=['state/current_info(current_info)'],\n",
    "            outputs=['break']\n",
    "        )\n",
    "\n",
    "        V('break',is_break=True,outputs=['format_new_info(input)'])\n",
    "\n",
    "        \n",
    "        V('format_new_info',format_new_info,\n",
    "            inputs=['state/current_info(current_info)'],\n",
    "            outputs=[\n",
    "                ('ask_missing_data(_)',has_missing_data),\n",
    "                'End',\n",
    "                'state/current_info'\n",
    "            ])\n",
    "    return D\n"
   ]
  },
  {
   "cell_type": "code",
   "execution_count": null,
   "metadata": {},
   "outputs": [],
   "source": [
    "class UserData(SQLModel):\n",
    "    name: Optional[str] = Field(None, description='The name of the user')\n",
    "    age: Optional[int] = Field(None, description='The age of the user')\n",
    "    email: Optional[str] = Field(None, description='The email of the user')\n",
    "\n"
   ]
  },
  {
   "cell_type": "code",
   "execution_count": null,
   "metadata": {},
   "outputs": [
    {
     "data": {
      "image/svg+xml": [
       "<?xml version=\"1.0\" encoding=\"UTF-8\" standalone=\"no\"?>\n",
       "<!DOCTYPE svg PUBLIC \"-//W3C//DTD SVG 1.1//EN\"\n",
       " \"http://www.w3.org/Graphics/SVG/1.1/DTD/svg11.dtd\">\n",
       "<!-- Generated by graphviz version 12.2.1 (20241206.2353)\n",
       " -->\n",
       "<!-- Title: fill_missing_data_UserData Pages: 1 -->\n",
       "<svg width=\"813pt\" height=\"480pt\"\n",
       " viewBox=\"0.00 0.00 812.50 480.00\" xmlns=\"http://www.w3.org/2000/svg\" xmlns:xlink=\"http://www.w3.org/1999/xlink\">\n",
       "<g id=\"graph0\" class=\"graph\" transform=\"scale(1 1) rotate(0) translate(4 476)\">\n",
       "<title>fill_missing_data_UserData</title>\n",
       "<polygon fill=\"white\" stroke=\"none\" points=\"-4,4 -4,-476 808.5,-476 808.5,4 -4,4\"/>\n",
       "<text text-anchor=\"middle\" x=\"402.25\" y=\"-454.7\" font-family=\"Times,serif\" font-size=\"14.00\">fill_missing_data_UserData</text>\n",
       "<!-- node_0 -->\n",
       "<g id=\"node1\" class=\"node\">\n",
       "<title>node_0</title>\n",
       "<polygon fill=\"#ececff\" stroke=\"#9370db\" points=\"554.5,-447.5 500.5,-447.5 500.5,-411.5 554.5,-411.5 554.5,-447.5\"/>\n",
       "<text text-anchor=\"middle\" x=\"527.5\" y=\"-424.45\" font-family=\"Times,serif\" font-size=\"14.00\">Start</text>\n",
       "</g>\n",
       "<!-- node_1 -->\n",
       "<g id=\"node2\" class=\"node\">\n",
       "<title>node_1</title>\n",
       "<path fill=\"#ececff\" stroke=\"#9370db\" d=\"M586.88,-371.23C586.88,-373.03 560.26,-374.5 527.5,-374.5 494.74,-374.5 468.12,-373.03 468.12,-371.23 468.12,-371.23 468.12,-341.77 468.12,-341.77 468.12,-339.97 494.74,-338.5 527.5,-338.5 560.26,-338.5 586.88,-339.97 586.88,-341.77 586.88,-341.77 586.88,-371.23 586.88,-371.23\"/>\n",
       "<path fill=\"none\" stroke=\"#9370db\" d=\"M586.88,-371.23C586.88,-369.42 560.26,-367.95 527.5,-367.95 494.74,-367.95 468.12,-369.42 468.12,-371.23\"/>\n",
       "<text text-anchor=\"middle\" x=\"527.5\" y=\"-351.45\" font-family=\"Times,serif\" font-size=\"14.00\">State[current_info]</text>\n",
       "</g>\n",
       "<!-- node_0&#45;&gt;node_1 -->\n",
       "<g id=\"edge1\" class=\"edge\">\n",
       "<title>node_0&#45;&gt;node_1</title>\n",
       "<path fill=\"none\" stroke=\"black\" stroke-dasharray=\"5,2\" d=\"M527.5,-411.31C527.5,-403.73 527.5,-394.6 527.5,-386.04\"/>\n",
       "<polygon fill=\"black\" stroke=\"black\" points=\"531,-386.04 527.5,-376.04 524,-386.04 531,-386.04\"/>\n",
       "</g>\n",
       "<!-- node_2 -->\n",
       "<g id=\"node3\" class=\"node\">\n",
       "<title>node_2</title>\n",
       "<polygon fill=\"#ececff\" stroke=\"#9370db\" points=\"499,-286 0,-286 0,-250 499,-250 499,-286\"/>\n",
       "<text text-anchor=\"middle\" x=\"249.5\" y=\"-262.95\" font-family=\"Times,serif\" font-size=\"14.00\">ask_missing_data[Chat(model=&#39;gpt&#45;4o&#45;mini&#39;, required_keys={&#39;current_info&#39;}, seed=42)]</text>\n",
       "</g>\n",
       "<!-- node_0&#45;&gt;node_2 -->\n",
       "<g id=\"edge5\" class=\"edge\">\n",
       "<title>node_0&#45;&gt;node_2</title>\n",
       "<path fill=\"none\" stroke=\"blue\" stroke-width=\"2\" d=\"M500.17,-427.4C458,-424.47 376.16,-413.73 320.75,-374.5 293.06,-354.9 272.96,-320.87 261.31,-296.77\"/>\n",
       "<polygon fill=\"blue\" stroke=\"blue\" stroke-width=\"2\" points=\"265.19,-296.84 257.82,-289.23 258.84,-299.77 265.19,-296.84\"/>\n",
       "<text text-anchor=\"middle\" x=\"390.12\" y=\"-351.45\" font-family=\"Times,serif\" font-size=\"14.00\">?(has_missing_data):.&#45;&gt;_</text>\n",
       "</g>\n",
       "<!-- node_3 -->\n",
       "<g id=\"node4\" class=\"node\">\n",
       "<title>node_3</title>\n",
       "<polygon fill=\"#ececff\" stroke=\"#9370db\" points=\"645.5,-36 591.5,-36 591.5,0 645.5,0 645.5,-36\"/>\n",
       "<text text-anchor=\"middle\" x=\"618.5\" y=\"-12.95\" font-family=\"Times,serif\" font-size=\"14.00\">End</text>\n",
       "</g>\n",
       "<!-- node_0&#45;&gt;node_3 -->\n",
       "<g id=\"edge6\" class=\"edge\">\n",
       "<title>node_0&#45;&gt;node_3</title>\n",
       "<path fill=\"none\" stroke=\"blue\" stroke-width=\"2\" d=\"M554.82,-427.3C624.7,-423.48 804.5,-408.7 804.5,-357.5 804.5,-357.5 804.5,-357.5 804.5,-90 804.5,-58.7 711.4,-36.15 656.93,-25.64\"/>\n",
       "<polygon fill=\"blue\" stroke=\"blue\" stroke-width=\"2\" points=\"659.39,-22.54 648.92,-24.13 658.1,-29.42 659.39,-22.54\"/>\n",
       "</g>\n",
       "<!-- node_1&#45;&gt;node_2 -->\n",
       "<g id=\"edge2\" class=\"edge\">\n",
       "<title>node_1&#45;&gt;node_2</title>\n",
       "<path fill=\"none\" stroke=\"black\" stroke-dasharray=\"5,2\" d=\"M474.88,-339.13C429.96,-325.15 365.08,-304.96 316.46,-289.83\"/>\n",
       "<polygon fill=\"black\" stroke=\"black\" points=\"317.75,-286.57 307.17,-286.94 315.67,-293.26 317.75,-286.57\"/>\n",
       "<text text-anchor=\"middle\" x=\"455.02\" y=\"-307.2\" font-family=\"Times,serif\" font-size=\"14.00\">.&#45;&gt;current_info</text>\n",
       "</g>\n",
       "<!-- node_5 -->\n",
       "<g id=\"node6\" class=\"node\">\n",
       "<title>node_5</title>\n",
       "<polygon fill=\"#ececff\" stroke=\"#9370db\" points=\"776.38,-109 90.62,-109 90.62,-73 776.38,-73 776.38,-109\"/>\n",
       "<text text-anchor=\"middle\" x=\"433.5\" y=\"-85.95\" font-family=\"Times,serif\" font-size=\"14.00\">format_new_info[Chat(model=&#39;gpt&#45;4o&#45;mini&#39;, required_keys={&#39;input&#39;, &#39;current_info&#39;}, output_schema=UserData, seed=42)]</text>\n",
       "</g>\n",
       "<!-- node_1&#45;&gt;node_5 -->\n",
       "<g id=\"edge3\" class=\"edge\">\n",
       "<title>node_1&#45;&gt;node_5</title>\n",
       "<path fill=\"none\" stroke=\"black\" stroke-dasharray=\"5,2\" d=\"M528.19,-338.12C528.98,-297.64 526.08,-195.27 481.5,-127 479.09,-123.32 476.16,-119.89 472.93,-116.73\"/>\n",
       "<polygon fill=\"black\" stroke=\"black\" points=\"475.48,-114.31 465.62,-110.45 470.92,-119.62 475.48,-114.31\"/>\n",
       "<text text-anchor=\"middle\" x=\"561.43\" y=\"-218.7\" font-family=\"Times,serif\" font-size=\"14.00\">.&#45;&gt;current_info</text>\n",
       "</g>\n",
       "<!-- node_4 -->\n",
       "<g id=\"node5\" class=\"node\">\n",
       "<title>node_4</title>\n",
       "<polygon fill=\"#ececff\" stroke=\"#9370db\" stroke-dasharray=\"5,2\" points=\"460.5,-197.5 406.5,-197.5 406.5,-161.5 460.5,-161.5 460.5,-197.5\"/>\n",
       "<text text-anchor=\"middle\" x=\"433.5\" y=\"-174.45\" font-family=\"Times,serif\" font-size=\"14.00\">break</text>\n",
       "</g>\n",
       "<!-- node_2&#45;&gt;node_4 -->\n",
       "<g id=\"edge7\" class=\"edge\">\n",
       "<title>node_2&#45;&gt;node_4</title>\n",
       "<path fill=\"none\" stroke=\"blue\" stroke-width=\"2\" d=\"M286.29,-249.7C318.05,-234.78 363.72,-213.3 395.75,-198.25\"/>\n",
       "<polygon fill=\"blue\" stroke=\"blue\" stroke-width=\"2\" points=\"395.75,-202.11 403.31,-194.69 392.77,-195.78 395.75,-202.11\"/>\n",
       "</g>\n",
       "<!-- node_4&#45;&gt;node_5 -->\n",
       "<g id=\"edge8\" class=\"edge\">\n",
       "<title>node_4&#45;&gt;node_5</title>\n",
       "<path fill=\"none\" stroke=\"blue\" stroke-width=\"2\" d=\"M433.5,-161.41C433.5,-149.76 433.5,-134.05 433.5,-120.52\"/>\n",
       "<polygon fill=\"blue\" stroke=\"blue\" stroke-width=\"2\" points=\"437,-122.38 433.5,-112.38 430,-122.38 437,-122.38\"/>\n",
       "<text text-anchor=\"middle\" x=\"455.62\" y=\"-130.2\" font-family=\"Times,serif\" font-size=\"14.00\">.&#45;&gt;input</text>\n",
       "</g>\n",
       "<!-- node_5&#45;&gt;node_1 -->\n",
       "<g id=\"edge4\" class=\"edge\">\n",
       "<title>node_5&#45;&gt;node_1</title>\n",
       "<path fill=\"none\" stroke=\"black\" stroke-dasharray=\"5,2\" d=\"M479.87,-109.36C522.43,-128.17 582.54,-162.77 607.5,-215.5 627.18,-257.07 588.65,-302.94 558.53,-330.47\"/>\n",
       "<polygon fill=\"black\" stroke=\"black\" points=\"556.23,-327.83 551.05,-337.07 560.86,-333.08 556.23,-327.83\"/>\n",
       "</g>\n",
       "<!-- node_5&#45;&gt;node_2 -->\n",
       "<g id=\"edge9\" class=\"edge\">\n",
       "<title>node_5&#45;&gt;node_2</title>\n",
       "<path fill=\"none\" stroke=\"blue\" stroke-width=\"2\" d=\"M337.8,-109.41C307.94,-119.63 277.85,-135.83 258.75,-161.5 242.39,-183.48 241.94,-215.62 244.43,-238.64\"/>\n",
       "<polygon fill=\"blue\" stroke=\"blue\" stroke-width=\"2\" points=\"240.71,-237.31 245.52,-246.75 247.65,-236.37 240.71,-237.31\"/>\n",
       "<text text-anchor=\"middle\" x=\"328.12\" y=\"-174.45\" font-family=\"Times,serif\" font-size=\"14.00\">?(has_missing_data):.&#45;&gt;_</text>\n",
       "</g>\n",
       "<!-- node_5&#45;&gt;node_3 -->\n",
       "<g id=\"edge10\" class=\"edge\">\n",
       "<title>node_5&#45;&gt;node_3</title>\n",
       "<path fill=\"none\" stroke=\"blue\" stroke-width=\"2\" d=\"M478.76,-72.63C509.96,-60.65 550.98,-44.91 580.49,-33.59\"/>\n",
       "<polygon fill=\"blue\" stroke=\"blue\" stroke-width=\"2\" points=\"580.28,-37.42 588.37,-30.56 577.78,-30.88 580.28,-37.42\"/>\n",
       "</g>\n",
       "</g>\n",
       "</svg>\n"
      ],
      "text/plain": [
       "<graphviz.graphs.Digraph>"
      ]
     },
     "metadata": {},
     "output_type": "display_data"
    },
    {
     "data": {
      "text/plain": [
       "<stringdale.diagrams.DiagramSchema>"
      ]
     },
     "execution_count": null,
     "metadata": {},
     "output_type": "execute_result"
    }
   ],
   "source": [
    "FillMissingUserData = fill_missing_data_agent(UserData)\n",
    "FillMissingUserData\n"
   ]
  },
  {
   "cell_type": "code",
   "execution_count": null,
   "metadata": {},
   "outputs": [
    {
     "name": "stdout",
     "output_type": "stream",
     "text": [
      "Node Start:\n",
      "{ 'input': {'content': UserData(name=None, age=None, email=None)},\n",
      "  'output': {'content': UserData(name=None, age=None, email=None)}}\n",
      "================================================================================\n",
      "Node ask_missing_data:\n",
      "{ 'input': { 'current_info': { 'content': UserData(name=None, age=None, email=None)}},\n",
      "  'output': { 'content': 'Could you please provide your name, age, and email '\n",
      "                         'address?',\n",
      "              'meta': {'input_tokens': 150, 'output_tokens': 21},\n",
      "              'role': 'assistant'}}\n",
      "================================================================================\n"
     ]
    },
    {
     "data": {
      "text/plain": [
       "{'role': 'assistant',\n",
       " 'content': 'Could you please provide your name, age, and email address?',\n",
       " 'meta': {'input_tokens': 150, 'output_tokens': 21}}"
      ]
     },
     "execution_count": null,
     "metadata": {},
     "output_type": "execute_result"
    }
   ],
   "source": [
    "d = FillMissingUserData()\n",
    "for trace in d.run({'content':UserData()}):\n",
    "    trace.pprint()\n",
    "    pass\n",
    "\n",
    "d.output\n"
   ]
  },
  {
   "cell_type": "code",
   "execution_count": null,
   "metadata": {},
   "outputs": [
    {
     "data": {
      "text/plain": [
       "{'role': 'assistant',\n",
       " 'content': \"Hi Jony! I see that I have your name but I'm missing a few details. Could you please provide your age and email address?\",\n",
       " 'meta': {'input_tokens': 175, 'output_tokens': 36}}"
      ]
     },
     "execution_count": null,
     "metadata": {},
     "output_type": "execute_result"
    }
   ],
   "source": [
    "for trace in d.run('my name is jony'):\n",
    "    pass\n",
    "\n",
    "d.output\n"
   ]
  },
  {
   "cell_type": "code",
   "execution_count": null,
   "metadata": {},
   "outputs": [
    {
     "data": {
      "text/plain": [
       "{'role': 'assistant',\n",
       " 'content': 'Could you please provide your email address?',\n",
       " 'meta': {'input_tokens': 176, 'output_tokens': 13}}"
      ]
     },
     "execution_count": null,
     "metadata": {},
     "output_type": "execute_result"
    }
   ],
   "source": [
    "for trace in d.run('i am 25 years old'):\n",
    "    pass\n",
    "\n",
    "d.output"
   ]
  },
  {
   "cell_type": "code",
   "execution_count": null,
   "metadata": {},
   "outputs": [
    {
     "data": {
      "text/plain": [
       "{'role': 'assistant',\n",
       " 'content': UserData(name='jony', age=25, email='jony@example.com'),\n",
       " 'meta': {'input_tokens': 367, 'output_tokens': 28}}"
      ]
     },
     "execution_count": null,
     "metadata": {},
     "output_type": "execute_result"
    }
   ],
   "source": [
    "for trace in d.run('sure, my email is jony@example.com'):\n",
    "    pass\n",
    "\n",
    "d.output"
   ]
  }
 ],
 "metadata": {
  "kernelspec": {
   "display_name": "python3",
   "language": "python",
   "name": "python3"
  }
 },
 "nbformat": 4,
 "nbformat_minor": 2
}
