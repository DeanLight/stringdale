{
 "cells": [
  {
   "cell_type": "markdown",
   "metadata": {},
   "source": [
    "## FewShot RAG Agent\n",
    "\n"
   ]
  },
  {
   "cell_type": "code",
   "execution_count": null,
   "metadata": {},
   "outputs": [],
   "source": [
    "#| hide\n",
    "%load_ext autoreload\n",
    "%autoreload 2\n"
   ]
  },
  {
   "cell_type": "code",
   "execution_count": null,
   "metadata": {},
   "outputs": [
    {
     "data": {
      "text/plain": [
       "True"
      ]
     },
     "execution_count": null,
     "metadata": {},
     "output_type": "execute_result"
    }
   ],
   "source": [
    "# | hide\n",
    "from stringdale.core import get_git_root, load_env, checkLogs, json_render\n",
    "\n",
    "load_env()"
   ]
  },
  {
   "cell_type": "code",
   "execution_count": null,
   "metadata": {},
   "outputs": [],
   "source": [
    "from pathlib import Path\n",
    "from pprint import pprint\n",
    "\n",
    "from stringdale.diagrams import (\n",
    "    Define,Scope,\n",
    "    V,E,\n",
    "    draw_diagram\n",
    ")\n",
    "from stringdale.chat import Chat\n",
    "from stringdale.std import Condition as C\n",
    "from stringdale.db import ChromaClient\n"
   ]
  },
  {
   "cell_type": "code",
   "execution_count": null,
   "metadata": {},
   "outputs": [],
   "source": [
    "chorma_client = ChromaClient()"
   ]
  },
  {
   "cell_type": "code",
   "execution_count": null,
   "metadata": {},
   "outputs": [
    {
     "data": {
      "text/plain": [
       "[{'id': 'dog1',\n",
       "  'text': 'The Golden Retriever is a friendly, intelligent breed known for its golden coat. They make excellent family pets and are great with children.',\n",
       "  'metadata': {'breed': 'Golden Retriever'}},\n",
       " {'id': 'dog2',\n",
       "  'text': 'German Shepherds are loyal, protective dogs often used in police work. They are highly trainable and good at various tasks.',\n",
       "  'metadata': {'breed': 'German Shepherd'}},\n",
       " {'id': 'dog3',\n",
       "  'text': 'The Golden Retriever is a friendly, intelligent breed with a beautiful golden coat. They are wonderful family pets that get along well with kids.',\n",
       "  'metadata': {'breed': 'Golden Retriever'}},\n",
       " {'id': 'dog4',\n",
       "  'text': 'Huskies are energetic working dogs bred for cold climates. They have thick fur and often blue eyes.',\n",
       "  'metadata': {'breed': 'Husky'}},\n",
       " {'id': 'dog5',\n",
       "  'text': 'Siberian Huskies are active working dogs that thrive in cold weather. They are known for their thick coats and striking blue eyes.',\n",
       "  'metadata': {'breed': 'Husky'}}]"
      ]
     },
     "execution_count": null,
     "metadata": {},
     "output_type": "execute_result"
    }
   ],
   "source": [
    "dog_docs = [\n",
    "    {\n",
    "        'id': 'dog1',\n",
    "        'text': 'The Golden Retriever is a friendly, intelligent breed known for its golden coat. They make excellent family pets and are great with children.',\n",
    "        'metadata': {'breed': 'Golden Retriever'}\n",
    "    },\n",
    "    {\n",
    "        'id': 'dog2', \n",
    "        'text': 'German Shepherds are loyal, protective dogs often used in police work. They are highly trainable and good at various tasks.',\n",
    "        'metadata': {'breed': 'German Shepherd'}\n",
    "    },\n",
    "    {\n",
    "        'id': 'dog3',\n",
    "        'text': 'The Golden Retriever is a friendly, intelligent breed with a beautiful golden coat. They are wonderful family pets that get along well with kids.',\n",
    "        'metadata': {'breed': 'Golden Retriever'}  # Near duplicate of dog1\n",
    "    },\n",
    "    {\n",
    "        'id': 'dog4',\n",
    "        'text': 'Huskies are energetic working dogs bred for cold climates. They have thick fur and often blue eyes.',\n",
    "        'metadata': {'breed': 'Husky'}\n",
    "    },\n",
    "    {\n",
    "        'id': 'dog5',\n",
    "        'text': 'Siberian Huskies are active working dogs that thrive in cold weather. They are known for their thick coats and striking blue eyes.',\n",
    "        'metadata': {'breed': 'Husky'}  # Near duplicate of dog4\n",
    "    }\n",
    "]\n",
    "\n",
    "# Add documents to index\n",
    "chorma_client.add_collection(\"dog_docs\",exists_ok=True)\n",
    "chorma_client.upsert(collection_name=\"dog_docs\",docs=dog_docs)"
   ]
  },
  {
   "cell_type": "code",
   "execution_count": null,
   "metadata": {},
   "outputs": [
    {
     "data": {
      "text/plain": [
       "[{'id': 'dog1',\n",
       "  'text': 'The Golden Retriever is a friendly, intelligent breed known for its golden coat. They make excellent family pets and are great with children.',\n",
       "  'metadata': {'breed': 'Golden Retriever'},\n",
       "  'distance': 0.6284635066986084},\n",
       " {'id': 'dog3',\n",
       "  'text': 'The Golden Retriever is a friendly, intelligent breed with a beautiful golden coat. They are wonderful family pets that get along well with kids.',\n",
       "  'metadata': {'breed': 'Golden Retriever'},\n",
       "  'distance': 0.6371400952339172}]"
      ]
     },
     "execution_count": null,
     "metadata": {},
     "output_type": "execute_result"
    }
   ],
   "source": [
    "# Query about golden retrievers\n",
    "query = \"Tell me about golden retrievers as family pets\"\n",
    "\n",
    "# Get similar documents\n",
    "results = chorma_client.query(collection_name=\"dog_docs\",query=query,k=2)\n",
    "results\n"
   ]
  },
  {
   "cell_type": "code",
   "execution_count": null,
   "metadata": {},
   "outputs": [
    {
     "name": "stdout",
     "output_type": "stream",
     "text": [
      "[{'content': 'You are a helpful assistant that answers questions about dogs.\\n'\n",
      "             '\\n'\n",
      "             'Here are some examples of how to answer questions about dogs:\\n'\n",
      "             '\\n'\n",
      "             'Question: What are the key traits of Pandas?\\n'\n",
      "             'Answer: Here are the key traits of Pandas:\\n'\n",
      "             '• Pandas are a type of bear\\n'\n",
      "             '• They are native to South America\\n'\n",
      "             '• They are known for their black and white fur\\n'\n",
      "             '• They are known for their love of bamboo\\n'\n",
      "             '\\n'\n",
      "             'Question: What are the key traits of Lions?\\n'\n",
      "             'Answer: Here are the key traits of Lions:\\n'\n",
      "             '• Lions are a type of bear\\n'\n",
      "             '• They are native to Africa\\n'\n",
      "             '• They are known for their mane of hair\\n'\n",
      "             '\\n'\n",
      "             '\\n'\n",
      "             'I found the following documents that may be relevant to the '\n",
      "             \"user's question:\\n\"\n",
      "             '\\n'\n",
      "             'The Golden Retriever is a friendly, intelligent breed known for '\n",
      "             'its golden coat. They make excellent family pets and are great '\n",
      "             'with children.\\n'\n",
      "             '\\n'\n",
      "             'The Golden Retriever is a friendly, intelligent breed with a '\n",
      "             'beautiful golden coat. They are wonderful family pets that get '\n",
      "             'along well with kids.',\n",
      "  'role': 'system'},\n",
      " {'content': 'Tell me about golden retrievers as family pets', 'role': 'user'}]\n"
     ]
    }
   ],
   "source": [
    "rag_prompt = [\n",
    "            {'role':'system','content':'''\n",
    "            You are a helpful assistant that answers questions about dogs.\n",
    "\n",
    "            Here are some examples of how to answer questions about dogs:\n",
    "            {% for example in examples %}\n",
    "            Question: {{example['question']}}\n",
    "            Answer: {{example['answer']}}\n",
    "            {% endfor %}\n",
    "\n",
    "            I found the following documents that may be relevant to the user's question:\n",
    "            {% for doc in docs %}\n",
    "            {{doc['text']}}\n",
    "            {% endfor %}\n",
    "            '''},\n",
    "            {'role':'user','content':'{{input}}'},\n",
    "            ]\n",
    "\n",
    "style_examples = [\n",
    "    {\n",
    "        'question': \"What are the key traits of Pandas?\",\n",
    "        'answer': \"\"\"Here are the key traits of Pandas:\n",
    "            • Pandas are a type of bear\n",
    "            • They are native to South America\n",
    "            • They are known for their black and white fur\n",
    "            • They are known for their love of bamboo\"\"\"\n",
    "    },\n",
    "    {\n",
    "        'question': \"What are the key traits of Lions?\",\n",
    "        'answer': \"\"\"Here are the key traits of Lions:\n",
    "            • Lions are a type of bear\n",
    "            • They are native to Africa\n",
    "            • They are known for their mane of hair\"\"\"\n",
    "    }\n",
    "]\n",
    "\n",
    "pprint(json_render(rag_prompt,context={\n",
    "    'docs':results,\n",
    "    'input':\"Tell me about golden retrievers as family pets\",\n",
    "    'examples':style_examples\n",
    "    }))"
   ]
  },
  {
   "cell_type": "code",
   "execution_count": null,
   "metadata": {},
   "outputs": [],
   "source": [
    "rag_chat = Chat(model='gpt-4o-mini',messages=rag_prompt,examples=style_examples)"
   ]
  },
  {
   "cell_type": "code",
   "execution_count": null,
   "metadata": {},
   "outputs": [
    {
     "data": {
      "image/svg+xml": [
       "<?xml version=\"1.0\" encoding=\"UTF-8\" standalone=\"no\"?>\n",
       "<!DOCTYPE svg PUBLIC \"-//W3C//DTD SVG 1.1//EN\"\n",
       " \"http://www.w3.org/Graphics/SVG/1.1/DTD/svg11.dtd\">\n",
       "<!-- Generated by graphviz version 12.2.1 (20241206.2353)\n",
       " -->\n",
       "<!-- Title: RAG Agent Pages: 1 -->\n",
       "<svg width=\"241pt\" height=\"411pt\"\n",
       " viewBox=\"0.00 0.00 240.62 411.00\" xmlns=\"http://www.w3.org/2000/svg\" xmlns:xlink=\"http://www.w3.org/1999/xlink\">\n",
       "<g id=\"graph0\" class=\"graph\" transform=\"scale(1 1) rotate(0) translate(4 407)\">\n",
       "<title>RAG Agent</title>\n",
       "<polygon fill=\"white\" stroke=\"none\" points=\"-4,4 -4,-407 236.62,-407 236.62,4 -4,4\"/>\n",
       "<text text-anchor=\"middle\" x=\"116.31\" y=\"-385.7\" font-family=\"Times,serif\" font-size=\"14.00\">RAG Agent</text>\n",
       "<!-- node_0 -->\n",
       "<g id=\"node1\" class=\"node\">\n",
       "<title>node_0</title>\n",
       "<polygon fill=\"#ececff\" stroke=\"#9370db\" points=\"136,-240.5 0,-240.5 0,-199.5 136,-199.5 136,-240.5\"/>\n",
       "<text text-anchor=\"middle\" x=\"68\" y=\"-223.2\" font-family=\"Times,serif\" font-size=\"14.00\">get_docs[</text>\n",
       "<text text-anchor=\"middle\" x=\"68\" y=\"-206.7\" font-family=\"Times,serif\" font-size=\"14.00\">ChromaClient.query ]</text>\n",
       "</g>\n",
       "<!-- node_2 -->\n",
       "<g id=\"node3\" class=\"node\">\n",
       "<title>node_2</title>\n",
       "<polygon fill=\"#ececff\" stroke=\"#9370db\" points=\"210.12,-147 47.88,-147 47.88,-73 210.12,-73 210.12,-147\"/>\n",
       "<text text-anchor=\"middle\" x=\"129\" y=\"-129.7\" font-family=\"Times,serif\" font-size=\"14.00\">chat[</text>\n",
       "<text text-anchor=\"middle\" x=\"129\" y=\"-113.2\" font-family=\"Times,serif\" font-size=\"14.00\">Chat(model=&#39;gpt&#45;4o&#45;mini&#39;,</text>\n",
       "<text text-anchor=\"middle\" x=\"129\" y=\"-96.7\" font-family=\"Times,serif\" font-size=\"14.00\">required_keys={&#39;input&#39;,</text>\n",
       "<text text-anchor=\"middle\" x=\"129\" y=\"-80.2\" font-family=\"Times,serif\" font-size=\"14.00\">&#39;docs&#39;}, seed=42) ]</text>\n",
       "</g>\n",
       "<!-- node_0&#45;&gt;node_2 -->\n",
       "<g id=\"edge1\" class=\"edge\">\n",
       "<title>node_0&#45;&gt;node_2</title>\n",
       "<path fill=\"none\" stroke=\"black\" d=\"M79.19,-199.19C85.84,-187.42 94.57,-171.95 102.86,-157.27\"/>\n",
       "<polygon fill=\"black\" stroke=\"black\" points=\"105.89,-159.03 107.76,-148.6 99.8,-155.59 105.89,-159.03\"/>\n",
       "<text text-anchor=\"middle\" x=\"122.88\" y=\"-168.2\" font-family=\"Times,serif\" font-size=\"14.00\">. &#45;&gt; docs</text>\n",
       "</g>\n",
       "<!-- node_1 -->\n",
       "<g id=\"node2\" class=\"node\">\n",
       "<title>node_1</title>\n",
       "<polygon fill=\"#ececff\" stroke=\"#9370db\" points=\"147,-378.5 93,-378.5 93,-342.5 147,-342.5 147,-378.5\"/>\n",
       "<text text-anchor=\"middle\" x=\"120\" y=\"-355.45\" font-family=\"Times,serif\" font-size=\"14.00\">Start</text>\n",
       "</g>\n",
       "<!-- node_1&#45;&gt;node_0 -->\n",
       "<g id=\"edge2\" class=\"edge\">\n",
       "<title>node_1&#45;&gt;node_0</title>\n",
       "<path fill=\"none\" stroke=\"black\" d=\"M92.58,-350.51C80.49,-345.03 67.46,-336.67 60.5,-324.5 47.91,-302.49 51.43,-273.41 57.15,-251.68\"/>\n",
       "<polygon fill=\"black\" stroke=\"black\" points=\"60.47,-252.79 59.94,-242.21 53.76,-250.81 60.47,-252.79\"/>\n",
       "<text text-anchor=\"middle\" x=\"113.75\" y=\"-311.2\" font-family=\"Times,serif\" font-size=\"14.00\">q &#45;&gt; query,</text>\n",
       "<text text-anchor=\"middle\" x=\"113.75\" y=\"-294.7\" font-family=\"Times,serif\" font-size=\"14.00\">collection_name &#45;&gt;</text>\n",
       "<text text-anchor=\"middle\" x=\"113.75\" y=\"-278.2\" font-family=\"Times,serif\" font-size=\"14.00\">collection_name, k</text>\n",
       "<text text-anchor=\"middle\" x=\"113.75\" y=\"-261.7\" font-family=\"Times,serif\" font-size=\"14.00\">&#45;&gt; k</text>\n",
       "</g>\n",
       "<!-- node_1&#45;&gt;node_2 -->\n",
       "<g id=\"edge3\" class=\"edge\">\n",
       "<title>node_1&#45;&gt;node_2</title>\n",
       "<path fill=\"none\" stroke=\"black\" d=\"M147.49,-345.46C155.23,-340.04 162.71,-333.05 167,-324.5 193.67,-271.39 173,-202.61 153.24,-157.67\"/>\n",
       "<polygon fill=\"black\" stroke=\"black\" points=\"156.49,-156.36 149.15,-148.72 150.12,-159.27 156.49,-156.36\"/>\n",
       "<text text-anchor=\"middle\" x=\"205.24\" y=\"-214.95\" font-family=\"Times,serif\" font-size=\"14.00\">q &#45;&gt; input</text>\n",
       "</g>\n",
       "<!-- node_3 -->\n",
       "<g id=\"node4\" class=\"node\">\n",
       "<title>node_3</title>\n",
       "<polygon fill=\"#ececff\" stroke=\"#9370db\" points=\"156,-36 102,-36 102,0 156,0 156,-36\"/>\n",
       "<text text-anchor=\"middle\" x=\"129\" y=\"-12.95\" font-family=\"Times,serif\" font-size=\"14.00\">End</text>\n",
       "</g>\n",
       "<!-- node_2&#45;&gt;node_3 -->\n",
       "<g id=\"edge4\" class=\"edge\">\n",
       "<title>node_2&#45;&gt;node_3</title>\n",
       "<path fill=\"none\" stroke=\"black\" d=\"M129,-72.65C129,-64.36 129,-55.66 129,-47.73\"/>\n",
       "<polygon fill=\"black\" stroke=\"black\" points=\"132.5,-47.97 129,-37.97 125.5,-47.97 132.5,-47.97\"/>\n",
       "</g>\n",
       "</g>\n",
       "</svg>\n"
      ],
      "text/plain": [
       "<graphviz.graphs.Digraph>"
      ]
     },
     "metadata": {},
     "output_type": "display_data"
    }
   ],
   "source": [
    "with Define('RAG Agent',type='flow') as RAG:\n",
    "    V('get_docs',chorma_client.query,\n",
    "        inputs=['Start(query=q,collection_name=collection_name,k=k)'],\n",
    "    )\n",
    "    V('chat',rag_chat,\n",
    "        inputs=['get_docs(docs)','Start(input=q)'],\n",
    "        outputs=['End']\n",
    "    )\n",
    "    "
   ]
  },
  {
   "cell_type": "code",
   "execution_count": null,
   "metadata": {},
   "outputs": [
    {
     "name": "stdout",
     "output_type": "stream",
     "text": [
      "{'content': 'Here are some key traits of Golden Retrievers: They are a '\n",
      "            'friendly and intelligent breed, known for their beautiful golden '\n",
      "            'coat. They make excellent family pets and are great with '\n",
      "            'children.',\n",
      " 'meta': {'input_tokens': 315, 'output_tokens': 44},\n",
      " 'role': 'assistant'}\n"
     ]
    }
   ],
   "source": [
    "d = RAG()\n",
    "for trace in d.run({'q':'tell me some stuff about golden retrievers','collection_name':'dog_docs','k':2}):\n",
    "    # trace.pprint()\n",
    "    pass\n",
    "\n",
    "pprint(d.output)\n"
   ]
  }
 ],
 "metadata": {
  "kernelspec": {
   "display_name": "python3",
   "language": "python",
   "name": "python3"
  }
 },
 "nbformat": 4,
 "nbformat_minor": 2
}
