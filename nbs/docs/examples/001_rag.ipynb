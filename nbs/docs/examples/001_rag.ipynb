{
 "cells": [
  {
   "cell_type": "markdown",
   "metadata": {},
   "source": [
    "## RAG Agent\n",
    "\n"
   ]
  },
  {
   "cell_type": "code",
   "execution_count": null,
   "metadata": {},
   "outputs": [],
   "source": [
    "#| default_exp examples.rag"
   ]
  },
  {
   "cell_type": "code",
   "execution_count": null,
   "metadata": {},
   "outputs": [],
   "source": [
    "#| hide\n",
    "%load_ext autoreload\n",
    "%autoreload 2\n"
   ]
  },
  {
   "cell_type": "code",
   "execution_count": null,
   "metadata": {},
   "outputs": [
    {
     "data": {
      "text/plain": [
       "True"
      ]
     },
     "execution_count": null,
     "metadata": {},
     "output_type": "execute_result"
    }
   ],
   "source": [
    "# | hide\n",
    "from stringdale.core import get_git_root, load_env, checkLogs, json_render\n",
    "\n",
    "load_env()"
   ]
  },
  {
   "cell_type": "code",
   "execution_count": null,
   "metadata": {},
   "outputs": [],
   "source": [
    "#| export\n",
    "from stringdale import V,E,Define\n",
    "from stringdale.chat import Chat\n",
    "from stringdale.db import ChromaClient"
   ]
  },
  {
   "cell_type": "code",
   "execution_count": null,
   "metadata": {},
   "outputs": [],
   "source": [
    "chroma_client = ChromaClient()"
   ]
  },
  {
   "cell_type": "code",
   "execution_count": null,
   "metadata": {},
   "outputs": [
    {
     "data": {
      "text/plain": [
       "[{'id': 'dog1',\n",
       "  'text': 'The Golden Retriever is a friendly, intelligent breed known for its golden coat. They make excellent family pets and are great with children.',\n",
       "  'metadata': {'breed': 'Golden Retriever'}},\n",
       " {'id': 'dog2',\n",
       "  'text': 'German Shepherds are loyal, protective dogs often used in police work. They are highly trainable and good at various tasks.',\n",
       "  'metadata': {'breed': 'German Shepherd'}},\n",
       " {'id': 'dog3',\n",
       "  'text': 'The Golden Retriever is a friendly, intelligent breed with a beautiful golden coat. They are wonderful family pets that get along well with kids.',\n",
       "  'metadata': {'breed': 'Golden Retriever'}},\n",
       " {'id': 'dog4',\n",
       "  'text': 'Huskies are energetic working dogs bred for cold climates. They have thick fur and often blue eyes.',\n",
       "  'metadata': {'breed': 'Husky'}},\n",
       " {'id': 'dog5',\n",
       "  'text': 'Siberian Huskies are active working dogs that thrive in cold weather. They are known for their thick coats and striking blue eyes.',\n",
       "  'metadata': {'breed': 'Husky'}}]"
      ]
     },
     "execution_count": null,
     "metadata": {},
     "output_type": "execute_result"
    }
   ],
   "source": [
    "dog_docs = [\n",
    "    {\n",
    "        'id': 'dog1',\n",
    "        'text': 'The Golden Retriever is a friendly, intelligent breed known for its golden coat. They make excellent family pets and are great with children.',\n",
    "        'metadata': {'breed': 'Golden Retriever'}\n",
    "    },\n",
    "    {\n",
    "        'id': 'dog2', \n",
    "        'text': 'German Shepherds are loyal, protective dogs often used in police work. They are highly trainable and good at various tasks.',\n",
    "        'metadata': {'breed': 'German Shepherd'}\n",
    "    },\n",
    "    {\n",
    "        'id': 'dog3',\n",
    "        'text': 'The Golden Retriever is a friendly, intelligent breed with a beautiful golden coat. They are wonderful family pets that get along well with kids.',\n",
    "        'metadata': {'breed': 'Golden Retriever'}  # Near duplicate of dog1\n",
    "    },\n",
    "    {\n",
    "        'id': 'dog4',\n",
    "        'text': 'Huskies are energetic working dogs bred for cold climates. They have thick fur and often blue eyes.',\n",
    "        'metadata': {'breed': 'Husky'}\n",
    "    },\n",
    "    {\n",
    "        'id': 'dog5',\n",
    "        'text': 'Siberian Huskies are active working dogs that thrive in cold weather. They are known for their thick coats and striking blue eyes.',\n",
    "        'metadata': {'breed': 'Husky'}  # Near duplicate of dog4\n",
    "    }\n",
    "]\n",
    "\n",
    "# Add documents to index\n",
    "chroma_client.add_collection(\"dog_docs\",exists_ok=True)\n",
    "chroma_client.upsert(collection_name=\"dog_docs\",docs=dog_docs)"
   ]
  },
  {
   "cell_type": "code",
   "execution_count": null,
   "metadata": {},
   "outputs": [],
   "source": [
    "#| export\n",
    "def RagFactory(db:ChromaClient,collection_name:str,k:int,model:str='gpt-4o-mini',system_prompt:str=None):\n",
    "    \"\"\"\n",
    "    A diagram Factory for a RAG workflow.\n",
    "\n",
    "    Args:\n",
    "        db: A ChromaClient instance.\n",
    "        collection_name: The name of the collection to use.\n",
    "        k: The number of documents to retrieve.\n",
    "        system_prompt: A system prompt to use for the RAG workflow.\n",
    "            make sure to include references to the documents in the system prompt.\n",
    "            documents are fed to the prompt under the key 'docs' \n",
    "            which is a list of dictionaries whose 'text' key is the document text.\n",
    "    \n",
    "    Returns:\n",
    "        A Rag diagram schema.\n",
    "    \"\"\"\n",
    "    if system_prompt is None:\n",
    "        system_prompt = '''\n",
    "            You are a helpful assistant that answers questions about dogs.\n",
    "            I found the following documents that may be relevant to the user's question:\n",
    "            {% for doc in docs %}\n",
    "            {{doc['text']}}\n",
    "            {% endfor %}\n",
    "            '''\n",
    "    rag_chat = Chat(model=model,messages=[\n",
    "        {'role':'system','content':system_prompt},\n",
    "        {'role':'user','content':'{{question}}'},\n",
    "        ])\n",
    "\n",
    "    def db_query(query:str):\n",
    "        return db.query(collection_name=collection_name,k=k,query=query)\n",
    "    \n",
    "    with Define('RAG Agent',type='flow') as RagSchema:\n",
    "        V('get_docs',db_query,\n",
    "            inputs=['Start(**)'],\n",
    "        )\n",
    "        V('chat',rag_chat,\n",
    "            inputs=['get_docs(docs)','Start(question=query)'],\n",
    "            outputs=['End']\n",
    "        )\n",
    "    return RagSchema"
   ]
  },
  {
   "cell_type": "code",
   "execution_count": null,
   "metadata": {},
   "outputs": [
    {
     "data": {
      "image/svg+xml": [
       "<?xml version=\"1.0\" encoding=\"UTF-8\" standalone=\"no\"?>\n",
       "<!DOCTYPE svg PUBLIC \"-//W3C//DTD SVG 1.1//EN\"\n",
       " \"http://www.w3.org/Graphics/SVG/1.1/DTD/svg11.dtd\">\n",
       "<!-- Generated by graphviz version 12.2.1 (20241206.2353)\n",
       " -->\n",
       "<!-- Title: RAG Agent Pages: 1 -->\n",
       "<svg width=\"658pt\" height=\"154pt\"\n",
       " viewBox=\"0.00 0.00 658.25 153.50\" xmlns=\"http://www.w3.org/2000/svg\" xmlns:xlink=\"http://www.w3.org/1999/xlink\">\n",
       "<g id=\"graph0\" class=\"graph\" transform=\"scale(1 1) rotate(0) translate(4 149.5)\">\n",
       "<title>RAG Agent</title>\n",
       "<polygon fill=\"white\" stroke=\"none\" points=\"-4,4 -4,-149.5 654.25,-149.5 654.25,4 -4,4\"/>\n",
       "<text text-anchor=\"middle\" x=\"325.12\" y=\"-128.2\" font-family=\"Times,serif\" font-size=\"14.00\">RAG Agent</text>\n",
       "<!-- node_0 -->\n",
       "<g id=\"node1\" class=\"node\">\n",
       "<title>node_0</title>\n",
       "<polygon fill=\"#ececff\" stroke=\"#9370db\" points=\"312.25,-121 127.5,-121 127.5,-63.5 312.25,-63.5 312.25,-121\"/>\n",
       "<text text-anchor=\"middle\" x=\"219.88\" y=\"-103.7\" font-family=\"Times,serif\" font-size=\"14.00\">get_docs[</text>\n",
       "<text text-anchor=\"middle\" x=\"219.88\" y=\"-87.2\" font-family=\"Times,serif\" font-size=\"14.00\">RagFactory.&lt;locals&gt;.db_query</text>\n",
       "<text text-anchor=\"middle\" x=\"219.88\" y=\"-70.7\" font-family=\"Times,serif\" font-size=\"14.00\">]</text>\n",
       "</g>\n",
       "<!-- node_2 -->\n",
       "<g id=\"node3\" class=\"node\">\n",
       "<title>node_2</title>\n",
       "<polygon fill=\"#ececff\" stroke=\"#9370db\" points=\"559.25,-90.5 397,-90.5 397,0 559.25,0 559.25,-90.5\"/>\n",
       "<text text-anchor=\"middle\" x=\"478.12\" y=\"-73.2\" font-family=\"Times,serif\" font-size=\"14.00\">chat[</text>\n",
       "<text text-anchor=\"middle\" x=\"478.12\" y=\"-56.7\" font-family=\"Times,serif\" font-size=\"14.00\">Chat(model=&#39;gpt&#45;4o&#45;mini&#39;,</text>\n",
       "<text text-anchor=\"middle\" x=\"478.12\" y=\"-40.2\" font-family=\"Times,serif\" font-size=\"14.00\">required_keys={&#39;docs&#39;,</text>\n",
       "<text text-anchor=\"middle\" x=\"478.12\" y=\"-23.7\" font-family=\"Times,serif\" font-size=\"14.00\">&#39;question&#39;},</text>\n",
       "<text text-anchor=\"middle\" x=\"478.12\" y=\"-7.2\" font-family=\"Times,serif\" font-size=\"14.00\">seed=42) ]</text>\n",
       "</g>\n",
       "<!-- node_0&#45;&gt;node_2 -->\n",
       "<g id=\"edge1\" class=\"edge\">\n",
       "<title>node_0&#45;&gt;node_2</title>\n",
       "<path fill=\"none\" stroke=\"black\" d=\"M312.66,-75.41C336.34,-71.07 361.83,-66.4 385.5,-62.06\"/>\n",
       "<polygon fill=\"black\" stroke=\"black\" points=\"385.9,-65.54 395.11,-60.29 384.64,-58.66 385.9,-65.54\"/>\n",
       "<text text-anchor=\"middle\" x=\"354.62\" y=\"-74.76\" font-family=\"Times,serif\" font-size=\"14.00\">. &#45;&gt; docs</text>\n",
       "</g>\n",
       "<!-- node_1 -->\n",
       "<g id=\"node2\" class=\"node\">\n",
       "<title>node_1</title>\n",
       "<polygon fill=\"#ececff\" stroke=\"#9370db\" points=\"54,-71.25 0,-71.25 0,-35.25 54,-35.25 54,-71.25\"/>\n",
       "<text text-anchor=\"middle\" x=\"27\" y=\"-48.2\" font-family=\"Times,serif\" font-size=\"14.00\">Start</text>\n",
       "</g>\n",
       "<!-- node_1&#45;&gt;node_0 -->\n",
       "<g id=\"edge2\" class=\"edge\">\n",
       "<title>node_1&#45;&gt;node_0</title>\n",
       "<path fill=\"none\" stroke=\"black\" d=\"M54.14,-58.59C70.55,-61.94 92.89,-66.51 115.81,-71.19\"/>\n",
       "<polygon fill=\"black\" stroke=\"black\" points=\"115.11,-74.62 125.61,-73.19 116.51,-67.76 115.11,-74.62\"/>\n",
       "<text text-anchor=\"middle\" x=\"90.75\" y=\"-72.46\" font-family=\"Times,serif\" font-size=\"14.00\">. &#45;&gt; **</text>\n",
       "</g>\n",
       "<!-- node_1&#45;&gt;node_2 -->\n",
       "<g id=\"edge3\" class=\"edge\">\n",
       "<title>node_1&#45;&gt;node_2</title>\n",
       "<path fill=\"none\" stroke=\"black\" d=\"M54.48,-47.98C74.45,-44.29 102.57,-39.68 127.5,-37.75 214.98,-30.98 315.11,-34.24 385.73,-38.37\"/>\n",
       "<polygon fill=\"black\" stroke=\"black\" points=\"385.1,-41.84 395.3,-38.95 385.53,-34.85 385.1,-41.84\"/>\n",
       "<text text-anchor=\"middle\" x=\"219.88\" y=\"-40.95\" font-family=\"Times,serif\" font-size=\"14.00\">query &#45;&gt; question</text>\n",
       "</g>\n",
       "<!-- node_3 -->\n",
       "<g id=\"node4\" class=\"node\">\n",
       "<title>node_3</title>\n",
       "<polygon fill=\"#ececff\" stroke=\"#9370db\" points=\"650.25,-63.25 596.25,-63.25 596.25,-27.25 650.25,-27.25 650.25,-63.25\"/>\n",
       "<text text-anchor=\"middle\" x=\"623.25\" y=\"-40.2\" font-family=\"Times,serif\" font-size=\"14.00\">End</text>\n",
       "</g>\n",
       "<!-- node_2&#45;&gt;node_3 -->\n",
       "<g id=\"edge4\" class=\"edge\">\n",
       "<title>node_2&#45;&gt;node_3</title>\n",
       "<path fill=\"none\" stroke=\"black\" d=\"M559.47,-45.25C568.19,-45.25 576.73,-45.25 584.57,-45.25\"/>\n",
       "<polygon fill=\"black\" stroke=\"black\" points=\"584.34,-48.75 594.34,-45.25 584.34,-41.75 584.34,-48.75\"/>\n",
       "</g>\n",
       "</g>\n",
       "</svg>\n"
      ],
      "text/plain": [
       "<graphviz.graphs.Digraph>"
      ]
     },
     "metadata": {},
     "output_type": "display_data"
    }
   ],
   "source": [
    "D = RagFactory(db=chroma_client,collection_name='dog_docs',k=2)\n",
    "D.draw()"
   ]
  },
  {
   "cell_type": "code",
   "execution_count": null,
   "metadata": {},
   "outputs": [
    {
     "name": "stdout",
     "output_type": "stream",
     "text": [
      "---\n",
      "name: Start\n",
      "input:\n",
      "  query: tell me some stuff about golden retrievers\n",
      "output:\n",
      "  query: tell me some stuff about golden retrievers\n",
      "---\n",
      "name: get_docs\n",
      "input:\n",
      "  query: tell me some stuff about golden retrievers\n",
      "output:\n",
      "- id: dog3\n",
      "  text: The Golden Retriever is a friendly, intelligent breed with a beautiful golden\n",
      "    coat. They are wonderful family pets that get along well with kids.\n",
      "  metadata:\n",
      "    breed: Golden Retriever\n",
      "  distance: 0.6992775201797485\n",
      "- id: dog1\n",
      "  text: The Golden Retriever is a friendly, intelligent breed known for its golden\n",
      "    coat. They make excellent family pets and are great with children.\n",
      "  metadata:\n",
      "    breed: Golden Retriever\n",
      "  distance: 0.7122190594673157\n",
      "---\n",
      "name: chat\n",
      "input:\n",
      "  question: tell me some stuff about golden retrievers\n",
      "  docs:\n",
      "  - id: dog3\n",
      "    text: The Golden Retriever is a friendly, intelligent breed with a beautiful golden\n",
      "      coat. They are wonderful family pets that get along well with kids.\n",
      "    metadata:\n",
      "      breed: Golden Retriever\n",
      "    distance: 0.6992775201797485\n",
      "  - id: dog1\n",
      "    text: The Golden Retriever is a friendly, intelligent breed known for its golden\n",
      "      coat. They make excellent family pets and are great with children.\n",
      "    metadata:\n",
      "      breed: Golden Retriever\n",
      "    distance: 0.7122190594673157\n",
      "output:\n",
      "  role: assistant\n",
      "  content: |-\n",
      "    Golden Retrievers are a popular dog breed known for their friendly and intelligent nature. Here are some key points about them:\\n\\n1. **Temperament**: Golden Retrievers are known for their friendly and gentle demeanor. They are highly sociable and get along well with children and other pets, making them excellent family dogs.\\n\\n2. **Intelligence**: This breed is highly intelligent and eager to please, which makes them easy to train. They excel in obedience training and are often used as service dogs due to their ability to learn commands quickly.\\n\\n3. **Physical Characteristics**: Golden Retrievers have a distinctive golden coat that is water-repellent, aiding in outdoor activities. Their fur can vary in shade from light to dark golden.\\n\\n4. **Exercise Needs**: They are active and energetic dogs that require regular exercise. Daily walks, playtime, and mental stimulation are essential to keep them healthy and happy.\\n\\n5. **Health Considerations**: While generally healthy, Golden Retrievers are prone to certain genetic conditions, such as hip dysplasia and certain types of cancers. Regular veterinary check-ups are important.\\n\\n6. **Lifespan**: The average lifespan of a Golden Retriever is around 10 to 12 years.\\n\\n7. **Versatility**: Besides being great family pets, they are also used in various roles, including therapy, assistance, search and rescue, and as detection dogs.\\n\\nGolden Retrievers are known for their loyalty and make wonderful companions if trained and socialized properly.\n",
      "  meta:\n",
      "    input_tokens: 97\n",
      "    output_tokens: 302\n",
      "---\n",
      "name: End\n",
      "input:\n",
      "  0:\n",
      "    role: assistant\n",
      "    content: |-\n",
      "      Golden Retrievers are a popular dog breed known for their friendly and intelligent nature. Here are some key points about them:\\n\\n1. **Temperament**: Golden Retrievers are known for their friendly and gentle demeanor. They are highly sociable and get along well with children and other pets, making them excellent family dogs.\\n\\n2. **Intelligence**: This breed is highly intelligent and eager to please, which makes them easy to train. They excel in obedience training and are often used as service dogs due to their ability to learn commands quickly.\\n\\n3. **Physical Characteristics**: Golden Retrievers have a distinctive golden coat that is water-repellent, aiding in outdoor activities. Their fur can vary in shade from light to dark golden.\\n\\n4. **Exercise Needs**: They are active and energetic dogs that require regular exercise. Daily walks, playtime, and mental stimulation are essential to keep them healthy and happy.\\n\\n5. **Health Considerations**: While generally healthy, Golden Retrievers are prone to certain genetic conditions, such as hip dysplasia and certain types of cancers. Regular veterinary check-ups are important.\\n\\n6. **Lifespan**: The average lifespan of a Golden Retriever is around 10 to 12 years.\\n\\n7. **Versatility**: Besides being great family pets, they are also used in various roles, including therapy, assistance, search and rescue, and as detection dogs.\\n\\nGolden Retrievers are known for their loyalty and make wonderful companions if trained and socialized properly.\n",
      "    meta:\n",
      "      input_tokens: 97\n",
      "      output_tokens: 302\n",
      "output:\n",
      "  role: assistant\n",
      "  content: |-\n",
      "    Golden Retrievers are a popular dog breed known for their friendly and intelligent nature. Here are some key points about them:\\n\\n1. **Temperament**: Golden Retrievers are known for their friendly and gentle demeanor. They are highly sociable and get along well with children and other pets, making them excellent family dogs.\\n\\n2. **Intelligence**: This breed is highly intelligent and eager to please, which makes them easy to train. They excel in obedience training and are often used as service dogs due to their ability to learn commands quickly.\\n\\n3. **Physical Characteristics**: Golden Retrievers have a distinctive golden coat that is water-repellent, aiding in outdoor activities. Their fur can vary in shade from light to dark golden.\\n\\n4. **Exercise Needs**: They are active and energetic dogs that require regular exercise. Daily walks, playtime, and mental stimulation are essential to keep them healthy and happy.\\n\\n5. **Health Considerations**: While generally healthy, Golden Retrievers are prone to certain genetic conditions, such as hip dysplasia and certain types of cancers. Regular veterinary check-ups are important.\\n\\n6. **Lifespan**: The average lifespan of a Golden Retriever is around 10 to 12 years.\\n\\n7. **Versatility**: Besides being great family pets, they are also used in various roles, including therapy, assistance, search and rescue, and as detection dogs.\\n\\nGolden Retrievers are known for their loyalty and make wonderful companions if trained and socialized properly.\n",
      "  meta:\n",
      "    input_tokens: 97\n",
      "    output_tokens: 302\n"
     ]
    },
    {
     "data": {
      "text/plain": [
       "{'role': 'assistant',\n",
       " 'content': 'Golden Retrievers are a popular dog breed known for their friendly and intelligent nature. Here are some key points about them:\\n\\n1. **Temperament**: Golden Retrievers are known for their friendly and gentle demeanor. They are highly sociable and get along well with children and other pets, making them excellent family dogs.\\n\\n2. **Intelligence**: This breed is highly intelligent and eager to please, which makes them easy to train. They excel in obedience training and are often used as service dogs due to their ability to learn commands quickly.\\n\\n3. **Physical Characteristics**: Golden Retrievers have a distinctive golden coat that is water-repellent, aiding in outdoor activities. Their fur can vary in shade from light to dark golden.\\n\\n4. **Exercise Needs**: They are active and energetic dogs that require regular exercise. Daily walks, playtime, and mental stimulation are essential to keep them healthy and happy.\\n\\n5. **Health Considerations**: While generally healthy, Golden Retrievers are prone to certain genetic conditions, such as hip dysplasia and certain types of cancers. Regular veterinary check-ups are important.\\n\\n6. **Lifespan**: The average lifespan of a Golden Retriever is around 10 to 12 years.\\n\\n7. **Versatility**: Besides being great family pets, they are also used in various roles, including therapy, assistance, search and rescue, and as detection dogs.\\n\\nGolden Retrievers are known for their loyalty and make wonderful companions if trained and socialized properly.',\n",
       " 'meta': {'input_tokens': 97, 'output_tokens': 302}}"
      ]
     },
     "execution_count": null,
     "metadata": {},
     "output_type": "execute_result"
    }
   ],
   "source": [
    "d=D()\n",
    "for trace in d.run({'query':'tell me some stuff about golden retrievers'}):\n",
    "    trace.pprint()\n",
    "\n",
    "d.output\n"
   ]
  },
  {
   "cell_type": "code",
   "execution_count": null,
   "metadata": {},
   "outputs": [],
   "source": [
    "#| hide\n",
    "import nbdev; nbdev.nbdev_export()"
   ]
  }
 ],
 "metadata": {
  "kernelspec": {
   "display_name": "python3",
   "language": "python",
   "name": "python3"
  }
 },
 "nbformat": 4,
 "nbformat_minor": 2
}
