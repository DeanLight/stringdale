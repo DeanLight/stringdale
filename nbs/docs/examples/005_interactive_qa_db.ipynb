{
 "cells": [
  {
   "cell_type": "markdown",
   "metadata": {},
   "source": [
    "# Interactive QA with DB"
   ]
  },
  {
   "cell_type": "code",
   "execution_count": null,
   "metadata": {},
   "outputs": [],
   "source": [
    "#| hide\n",
    "%load_ext autoreload\n",
    "%autoreload 2\n"
   ]
  },
  {
   "cell_type": "code",
   "execution_count": null,
   "metadata": {},
   "outputs": [],
   "source": [
    "# | hide\n",
    "from stringdale.core import get_git_root, load_env, checkLogs, json_render\n",
    "\n",
    "load_env()\n",
    "\n",
    "import pytest"
   ]
  },
  {
   "cell_type": "code",
   "execution_count": null,
   "metadata": {},
   "outputs": [],
   "source": [
    "from pathlib import Path\n",
    "from pprint import pprint\n",
    "from pydantic import BaseModel,Field,ConfigDict\n",
    "from typing import Union,Literal,Optional\n",
    "from sqlmodel import SQLModel, Session, select, Field\n",
    "\n",
    "from stringdale.diagrams import (\n",
    "    Define,Scope,\n",
    "    V,E,\n",
    "    draw_diagram\n",
    ")\n",
    "from stringdale.core import has_missing\n",
    "from stringdale.chat import Chat\n",
    "from stringdale.std import Condition as C\n",
    "from stringdale.db import temp_sql_db\n"
   ]
  },
  {
   "cell_type": "markdown",
   "metadata": {},
   "source": [
    "## Collect missing data from user"
   ]
  },
  {
   "cell_type": "markdown",
   "metadata": {},
   "source": [
    "In this example we will create an agent the collects missing data from the user with the following imporvements:\n",
    "* The user will check if we already have data for the user, if we do, they will confirm it is correct\n",
    "* If the user takes too long to respond, the agent will save the current state with the missing data and continue later\n",
    "* the agent will save the data to the db oncce we have all the data"
   ]
  },
  {
   "cell_type": "code",
   "execution_count": null,
   "metadata": {},
   "outputs": [],
   "source": [
    "engine = temp_sql_db(echo=False)\n"
   ]
  },
  {
   "cell_type": "code",
   "execution_count": null,
   "metadata": {},
   "outputs": [],
   "source": [
    "SQLModel.metadata.clear()\n",
    "\n",
    "#  Define your model (if using SQLModel)\n",
    "class User(SQLModel, table=True,extend_existing=True):\n",
    "    id: int = Field(default=None, primary_key=True)\n",
    "    name: Optional[str] = Field(default=None)\n",
    "    age: Optional[int] = Field(default=None)\n",
    "    email: Optional[str] = Field(default=None)\n",
    "\n",
    "SQLModel.metadata.create_all(engine)"
   ]
  },
  {
   "cell_type": "code",
   "execution_count": null,
   "metadata": {},
   "outputs": [],
   "source": [
    "ask_missing_data = Chat(\n",
    "    model='gpt-4o-mini',\n",
    "    messages=[\n",
    "        {'role':'system','content':'''\n",
    "        You are a helpful assistant asks the user for missing information.\n",
    "        The information we have so far is:\n",
    "        {{current_info}}\n",
    "        Ask the user for the missing information.\n",
    "        '''}])\n",
    "\n",
    "format_new_info = Chat(\n",
    "    model='gpt-4o-mini',\n",
    "    messages=[\n",
    "        {'role':'system','content':'''\n",
    "        You are a helpful assistant that gets user data and makes sure it is complete.\n",
    "        If you are not sure that you were given the relevant information, put None in the relevant field.\n",
    "        {% if current_info %}\n",
    "        The information we have so far is:\n",
    "        {{current_info}}\n",
    "        {% endif %}\n",
    "        The user will supply the missing information.\n",
    "        '''},\n",
    "        {'role':'user','content':'{{input}}'},\n",
    "    ],\n",
    "    output_schema=User)\n",
    "\n",
    "has_missing_data = C(has_missing,'(0=content)',name='has_missing_data')\n"
   ]
  },
  {
   "cell_type": "code",
   "execution_count": null,
   "metadata": {},
   "outputs": [
    {
     "data": {
      "text/plain": [
       "{'role': 'assistant',\n",
       " 'content': User(id=1, name='Alice', age=20, email=None),\n",
       " 'meta': {'input_tokens': 327, 'output_tokens': 30}}"
      ]
     },
     "execution_count": null,
     "metadata": {},
     "output_type": "execute_result"
    }
   ],
   "source": [
    "res = await format_new_info(input='my age is 20',current_info=User(id=1, name=\"Alice\"))\n",
    "res"
   ]
  },
  {
   "cell_type": "code",
   "execution_count": null,
   "metadata": {},
   "outputs": [],
   "source": [
    "# Define a Custom State Object\n",
    "\n",
    "\n",
    "class UserDBState(BaseModel):\n",
    "    model_config = ConfigDict(extra='allow')\n",
    "    user_id:int\n",
    "    _user:Optional[User]=None\n",
    "\n",
    "    @property\n",
    "    def engine(self):\n",
    "        return temp_sql_db(echo=False)\n",
    "\n",
    "    def get_user(self):\n",
    "        user_id = self.user_id\n",
    "        if not self._user is None:\n",
    "            return self._user\n",
    "        with Session(self.engine) as session:\n",
    "            user = session.exec(select(User).where(User.id == user_id)).first()\n",
    "            self._user = user\n",
    "            return user\n",
    "\n",
    "    def add_user(self,user_data):\n",
    "        self._user = user_data\n",
    "        with Session(self.engine) as session:\n",
    "            session.merge(user_data)\n",
    "            session.commit()\n",
    "        "
   ]
  },
  {
   "cell_type": "code",
   "execution_count": null,
   "metadata": {},
   "outputs": [
    {
     "name": "stdout",
     "output_type": "stream",
     "text": [
      "None\n",
      "id=1 name='Alice' age=30 email='alice@example.com'\n"
     ]
    }
   ],
   "source": [
    "state = UserDBState(user_id=1)\n",
    "print(state.get_user())\n",
    "state.add_user(User(id=1,name='Alice',age=30,email='alice@example.com'))\n",
    "print(state.get_user())\n"
   ]
  },
  {
   "cell_type": "code",
   "execution_count": null,
   "metadata": {},
   "outputs": [
    {
     "data": {
      "image/svg+xml": [
       "<?xml version=\"1.0\" encoding=\"UTF-8\" standalone=\"no\"?>\n",
       "<!DOCTYPE svg PUBLIC \"-//W3C//DTD SVG 1.1//EN\"\n",
       " \"http://www.w3.org/Graphics/SVG/1.1/DTD/svg11.dtd\">\n",
       "<!-- Generated by graphviz version 12.2.1 (20241206.2353)\n",
       " -->\n",
       "<!-- Title: fill missing user with db Pages: 1 -->\n",
       "<svg width=\"395pt\" height=\"621pt\"\n",
       " viewBox=\"0.00 0.00 394.75 621.00\" xmlns=\"http://www.w3.org/2000/svg\" xmlns:xlink=\"http://www.w3.org/1999/xlink\">\n",
       "<g id=\"graph0\" class=\"graph\" transform=\"scale(1 1) rotate(0) translate(4 617)\">\n",
       "<title>fill missing user with db</title>\n",
       "<polygon fill=\"white\" stroke=\"none\" points=\"-4,4 -4,-617 390.75,-617 390.75,4 -4,4\"/>\n",
       "<text text-anchor=\"middle\" x=\"193.38\" y=\"-595.7\" font-family=\"Times,serif\" font-size=\"14.00\">fill missing user with db</text>\n",
       "<!-- node_0 -->\n",
       "<g id=\"node1\" class=\"node\">\n",
       "<title>node_0</title>\n",
       "<polygon fill=\"#ececff\" stroke=\"#9370db\" points=\"73,-500 19,-500 19,-464 73,-464 73,-500\"/>\n",
       "<text text-anchor=\"middle\" x=\"46\" y=\"-476.95\" font-family=\"Times,serif\" font-size=\"14.00\">Start</text>\n",
       "</g>\n",
       "<!-- node_2 -->\n",
       "<g id=\"node3\" class=\"node\">\n",
       "<title>node_2</title>\n",
       "<polygon fill=\"#ececff\" stroke=\"#9370db\" points=\"238.62,-395 49.38,-395 49.38,-321 238.62,-321 238.62,-395\"/>\n",
       "<text text-anchor=\"middle\" x=\"144\" y=\"-377.7\" font-family=\"Times,serif\" font-size=\"14.00\">ask_missing_data[</text>\n",
       "<text text-anchor=\"middle\" x=\"144\" y=\"-361.2\" font-family=\"Times,serif\" font-size=\"14.00\">Chat(model=&#39;gpt&#45;4o&#45;mini&#39;,</text>\n",
       "<text text-anchor=\"middle\" x=\"144\" y=\"-344.7\" font-family=\"Times,serif\" font-size=\"14.00\">required_keys={&#39;current_info&#39;},</text>\n",
       "<text text-anchor=\"middle\" x=\"144\" y=\"-328.2\" font-family=\"Times,serif\" font-size=\"14.00\">seed=42) ]</text>\n",
       "</g>\n",
       "<!-- node_0&#45;&gt;node_2 -->\n",
       "<g id=\"edge5\" class=\"edge\">\n",
       "<title>node_0&#45;&gt;node_2</title>\n",
       "<path fill=\"none\" stroke=\"blue\" stroke-width=\"2\" d=\"M41.91,-463.78C39.44,-449.19 38.31,-428.28 47.5,-413 49.54,-409.61 51.88,-406.41 54.45,-403.4\"/>\n",
       "<polygon fill=\"blue\" stroke=\"blue\" stroke-width=\"2\" points=\"55.67,-407.16 60.17,-397.56 50.67,-402.26 55.67,-407.16\"/>\n",
       "<text text-anchor=\"middle\" x=\"105.25\" y=\"-432.7\" font-family=\"Times,serif\" font-size=\"14.00\">?(has_missing_data):</text>\n",
       "<text text-anchor=\"middle\" x=\"105.25\" y=\"-416.2\" font-family=\"Times,serif\" font-size=\"14.00\">. &#45;&gt; _</text>\n",
       "</g>\n",
       "<!-- node_3 -->\n",
       "<g id=\"node4\" class=\"node\">\n",
       "<title>node_3</title>\n",
       "<polygon fill=\"#ececff\" stroke=\"#9370db\" points=\"54,-36 0,-36 0,0 54,0 54,-36\"/>\n",
       "<text text-anchor=\"middle\" x=\"27\" y=\"-12.95\" font-family=\"Times,serif\" font-size=\"14.00\">End</text>\n",
       "</g>\n",
       "<!-- node_0&#45;&gt;node_3 -->\n",
       "<g id=\"edge6\" class=\"edge\">\n",
       "<title>node_0&#45;&gt;node_3</title>\n",
       "<path fill=\"none\" stroke=\"blue\" stroke-width=\"2\" d=\"M38.18,-463.62C28.42,-440.31 13,-397.4 13,-359 13,-359 13,-359 13,-141 13,-108.75 17.89,-72.02 21.89,-47.37\"/>\n",
       "<polygon fill=\"blue\" stroke=\"blue\" stroke-width=\"2\" points=\"25.04,-49.73 23.25,-39.29 18.13,-48.57 25.04,-49.73\"/>\n",
       "</g>\n",
       "<!-- node_1 -->\n",
       "<g id=\"node2\" class=\"node\">\n",
       "<title>node_1</title>\n",
       "<path fill=\"#ececff\" stroke=\"#9370db\" d=\"M225.88,-585.23C225.88,-587.03 203.97,-588.5 177,-588.5 150.03,-588.5 128.12,-587.03 128.12,-585.23 128.12,-585.23 128.12,-555.77 128.12,-555.77 128.12,-553.97 150.03,-552.5 177,-552.5 203.97,-552.5 225.88,-553.97 225.88,-555.77 225.88,-555.77 225.88,-585.23 225.88,-585.23\"/>\n",
       "<path fill=\"none\" stroke=\"#9370db\" d=\"M225.88,-585.23C225.88,-583.42 203.97,-581.95 177,-581.95 150.03,-581.95 128.12,-583.42 128.12,-585.23\"/>\n",
       "<text text-anchor=\"middle\" x=\"177\" y=\"-565.45\" font-family=\"Times,serif\" font-size=\"14.00\">State[get_user]</text>\n",
       "</g>\n",
       "<!-- node_1&#45;&gt;node_0 -->\n",
       "<g id=\"edge1\" class=\"edge\">\n",
       "<title>node_1&#45;&gt;node_0</title>\n",
       "<path fill=\"none\" stroke=\"black\" stroke-dasharray=\"5,2\" d=\"M133.62,-553.15C122.02,-547.94 109.79,-541.64 99.25,-534.5 88.44,-527.17 77.83,-517.55 68.96,-508.61\"/>\n",
       "<polygon fill=\"black\" stroke=\"black\" points=\"71.53,-506.24 62.08,-501.44 66.48,-511.08 71.53,-506.24\"/>\n",
       "<text text-anchor=\"middle\" x=\"131.12\" y=\"-521.2\" font-family=\"Times,serif\" font-size=\"14.00\">. &#45;&gt; content</text>\n",
       "</g>\n",
       "<!-- node_1&#45;&gt;node_2 -->\n",
       "<g id=\"edge2\" class=\"edge\">\n",
       "<title>node_1&#45;&gt;node_2</title>\n",
       "<path fill=\"none\" stroke=\"black\" stroke-dasharray=\"5,2\" d=\"M176.86,-552.39C176.3,-523.38 173.82,-462.85 163,-413 162.51,-410.72 161.94,-408.41 161.33,-406.09\"/>\n",
       "<polygon fill=\"black\" stroke=\"black\" points=\"164.74,-405.3 158.56,-396.7 158.03,-407.28 164.74,-405.3\"/>\n",
       "<text text-anchor=\"middle\" x=\"219.86\" y=\"-476.95\" font-family=\"Times,serif\" font-size=\"14.00\">. &#45;&gt; current_info</text>\n",
       "</g>\n",
       "<!-- node_5 -->\n",
       "<g id=\"node6\" class=\"node\">\n",
       "<title>node_5</title>\n",
       "<polygon fill=\"#ececff\" stroke=\"#9370db\" points=\"225.25,-195.5 42.75,-195.5 42.75,-88.5 225.25,-88.5 225.25,-195.5\"/>\n",
       "<text text-anchor=\"middle\" x=\"134\" y=\"-178.2\" font-family=\"Times,serif\" font-size=\"14.00\">format_new_info[</text>\n",
       "<text text-anchor=\"middle\" x=\"134\" y=\"-161.7\" font-family=\"Times,serif\" font-size=\"14.00\">Chat(model=&#39;gpt&#45;4o&#45;mini&#39;,</text>\n",
       "<text text-anchor=\"middle\" x=\"134\" y=\"-145.2\" font-family=\"Times,serif\" font-size=\"14.00\">required_keys={&#39;current_info&#39;,</text>\n",
       "<text text-anchor=\"middle\" x=\"134\" y=\"-128.7\" font-family=\"Times,serif\" font-size=\"14.00\">&#39;input&#39;},</text>\n",
       "<text text-anchor=\"middle\" x=\"134\" y=\"-112.2\" font-family=\"Times,serif\" font-size=\"14.00\">output_schema=User,</text>\n",
       "<text text-anchor=\"middle\" x=\"134\" y=\"-95.7\" font-family=\"Times,serif\" font-size=\"14.00\">seed=42) ]</text>\n",
       "</g>\n",
       "<!-- node_1&#45;&gt;node_5 -->\n",
       "<g id=\"edge3\" class=\"edge\">\n",
       "<title>node_1&#45;&gt;node_5</title>\n",
       "<path fill=\"none\" stroke=\"black\" stroke-dasharray=\"5,2\" d=\"M226.09,-555.17C258.87,-542.23 296,-519.52 296,-483 296,-483 296,-483 296,-265 296,-227.51 267.97,-200.1 235.23,-180.87\"/>\n",
       "<polygon fill=\"black\" stroke=\"black\" points=\"237.18,-177.95 226.74,-176.15 233.78,-184.07 237.18,-177.95\"/>\n",
       "<text text-anchor=\"middle\" x=\"341.38\" y=\"-352.95\" font-family=\"Times,serif\" font-size=\"14.00\">. &#45;&gt; current_info</text>\n",
       "</g>\n",
       "<!-- node_4 -->\n",
       "<g id=\"node5\" class=\"node\">\n",
       "<title>node_4</title>\n",
       "<polygon fill=\"#ececff\" stroke=\"#9370db\" stroke-dasharray=\"5,2\" points=\"110,-284 56,-284 56,-248 110,-248 110,-284\"/>\n",
       "<text text-anchor=\"middle\" x=\"83\" y=\"-260.95\" font-family=\"Times,serif\" font-size=\"14.00\">break</text>\n",
       "</g>\n",
       "<!-- node_2&#45;&gt;node_4 -->\n",
       "<g id=\"edge7\" class=\"edge\">\n",
       "<title>node_2&#45;&gt;node_4</title>\n",
       "<path fill=\"none\" stroke=\"blue\" stroke-width=\"2\" d=\"M119.36,-320.65C113.28,-311.68 106.87,-302.22 101.16,-293.79\"/>\n",
       "<polygon fill=\"blue\" stroke=\"blue\" stroke-width=\"2\" points=\"105.04,-293.28 96.53,-286.97 99.25,-297.21 105.04,-293.28\"/>\n",
       "</g>\n",
       "<!-- node_4&#45;&gt;node_5 -->\n",
       "<g id=\"edge8\" class=\"edge\">\n",
       "<title>node_4&#45;&gt;node_5</title>\n",
       "<path fill=\"none\" stroke=\"blue\" stroke-width=\"2\" d=\"M80,-247.88C78.88,-237.65 78.63,-224.55 82.25,-213.5 83.09,-210.94 84.06,-208.4 85.14,-205.89\"/>\n",
       "<polygon fill=\"blue\" stroke=\"blue\" stroke-width=\"2\" points=\"87.53,-208.96 88.8,-198.44 81.24,-205.87 87.53,-208.96\"/>\n",
       "<text text-anchor=\"middle\" x=\"108.12\" y=\"-216.7\" font-family=\"Times,serif\" font-size=\"14.00\">. &#45;&gt; input</text>\n",
       "</g>\n",
       "<!-- node_5&#45;&gt;node_2 -->\n",
       "<g id=\"edge9\" class=\"edge\">\n",
       "<title>node_5&#45;&gt;node_2</title>\n",
       "<path fill=\"none\" stroke=\"blue\" stroke-width=\"2\" d=\"M136.47,-195.96C138.1,-230.69 140.2,-275.71 141.77,-309.32\"/>\n",
       "<polygon fill=\"blue\" stroke=\"blue\" stroke-width=\"2\" points=\"138.2,-307.85 142.16,-317.67 145.19,-307.52 138.2,-307.85\"/>\n",
       "<text text-anchor=\"middle\" x=\"198.31\" y=\"-269.2\" font-family=\"Times,serif\" font-size=\"14.00\">?(has_missing_data):</text>\n",
       "<text text-anchor=\"middle\" x=\"198.31\" y=\"-252.7\" font-family=\"Times,serif\" font-size=\"14.00\">. &#45;&gt; _</text>\n",
       "</g>\n",
       "<!-- node_5&#45;&gt;node_3 -->\n",
       "<g id=\"edge10\" class=\"edge\">\n",
       "<title>node_5&#45;&gt;node_3</title>\n",
       "<path fill=\"none\" stroke=\"blue\" stroke-width=\"2\" d=\"M87.69,-88.2C74.6,-73.27 60.93,-57.68 49.88,-45.09\"/>\n",
       "<polygon fill=\"blue\" stroke=\"blue\" stroke-width=\"2\" points=\"53.57,-43.98 44.34,-38.77 48.3,-48.6 53.57,-43.98\"/>\n",
       "</g>\n",
       "<!-- node_6 -->\n",
       "<g id=\"node7\" class=\"node\">\n",
       "<title>node_6</title>\n",
       "<path fill=\"#ececff\" stroke=\"#9370db\" d=\"M184.38,-32.73C184.38,-34.53 161.8,-36 134,-36 106.2,-36 83.62,-34.53 83.62,-32.73 83.62,-32.73 83.62,-3.27 83.62,-3.27 83.62,-1.47 106.2,0 134,0 161.8,0 184.38,-1.47 184.38,-3.27 184.38,-3.27 184.38,-32.73 184.38,-32.73\"/>\n",
       "<path fill=\"none\" stroke=\"#9370db\" d=\"M184.38,-32.73C184.38,-30.92 161.8,-29.45 134,-29.45 106.2,-29.45 83.62,-30.92 83.62,-32.73\"/>\n",
       "<text text-anchor=\"middle\" x=\"134\" y=\"-12.95\" font-family=\"Times,serif\" font-size=\"14.00\">State[add_user]</text>\n",
       "</g>\n",
       "<!-- node_5&#45;&gt;node_6 -->\n",
       "<g id=\"edge4\" class=\"edge\">\n",
       "<title>node_5&#45;&gt;node_6</title>\n",
       "<path fill=\"none\" stroke=\"black\" stroke-dasharray=\"5,2\" d=\"M134,-88.2C134,-74.29 134,-59.8 134,-47.7\"/>\n",
       "<polygon fill=\"black\" stroke=\"black\" points=\"137.5,-48.01 134,-38.01 130.5,-48.01 137.5,-48.01\"/>\n",
       "<text text-anchor=\"middle\" x=\"167.38\" y=\"-57.2\" font-family=\"Times,serif\" font-size=\"14.00\">content &#45;&gt; 0</text>\n",
       "</g>\n",
       "</g>\n",
       "</svg>\n"
      ],
      "text/plain": [
       "<graphviz.graphs.Digraph>"
      ]
     },
     "metadata": {},
     "output_type": "display_data"
    }
   ],
   "source": [
    "with Define('fill missing user with db',type='decision',state=UserDBState) as D:\n",
    "    \n",
    "    V('Start',inputs=['state/get_user(content)'],\n",
    "        outputs=[\n",
    "            ('ask_missing_data(_)',has_missing_data),\n",
    "            'End',\n",
    "            ]\n",
    "        )\n",
    "\n",
    "    V('ask_missing_data',ask_missing_data,\n",
    "        inputs=['state/get_user(current_info)'],\n",
    "        outputs=['break']\n",
    "    )\n",
    "\n",
    "    V('break',is_break=True,outputs=['format_new_info(input)'])\n",
    "\n",
    "    \n",
    "    V('format_new_info',format_new_info,\n",
    "        inputs=['state/get_user(current_info)'],\n",
    "        outputs=[\n",
    "            ('ask_missing_data(_)',has_missing_data),\n",
    "            'End',\n",
    "            'state/add_user(0=content)'\n",
    "        ])\n"
   ]
  },
  {
   "cell_type": "code",
   "execution_count": null,
   "metadata": {},
   "outputs": [
    {
     "name": "stdout",
     "output_type": "stream",
     "text": [
      "Node Start:\n",
      "{ 'input': { 0: None,\n",
      "             'content': User(age=30, id=1, name='Alice', email='alice@example.com')},\n",
      "  'output': { 0: None,\n",
      "              'content': User(age=30, id=1, name='Alice', email='alice@example.com')}}\n",
      "================================================================================\n",
      "Node End:\n",
      "{ 'input': { 0: { 0: None,\n",
      "                  'content': User(age=30, id=1, name='Alice', email='alice@example.com')}},\n",
      "  'output': { 0: None,\n",
      "              'content': User(age=30, id=1, name='Alice', email='alice@example.com')}}\n",
      "================================================================================\n"
     ]
    },
    {
     "data": {
      "text/plain": [
       "{0: None,\n",
       " 'content': User(age=30, id=1, name='Alice', email='alice@example.com')}"
      ]
     },
     "execution_count": null,
     "metadata": {},
     "output_type": "execute_result"
    }
   ],
   "source": [
    "d = D()\n",
    "# with checkLogs(name='stringdale.diagrams'):\n",
    "for trace in d.run(input=None,state={'user_id':1,'db_string':'Memory'}):\n",
    "    trace.pprint()\n",
    "\n",
    "d.output"
   ]
  },
  {
   "cell_type": "code",
   "execution_count": null,
   "metadata": {},
   "outputs": [
    {
     "data": {
      "text/plain": [
       "UserDBState(user_id=1, db_string='Memory')"
      ]
     },
     "execution_count": null,
     "metadata": {},
     "output_type": "execute_result"
    }
   ],
   "source": [
    "d.state"
   ]
  },
  {
   "cell_type": "code",
   "execution_count": null,
   "metadata": {},
   "outputs": [
    {
     "data": {
      "text/plain": [
       "User(age=30, id=1, name='Alice', email='alice@example.com')"
      ]
     },
     "execution_count": null,
     "metadata": {},
     "output_type": "execute_result"
    }
   ],
   "source": [
    "d.state.get_user()"
   ]
  }
 ],
 "metadata": {
  "kernelspec": {
   "display_name": "python3",
   "language": "python",
   "name": "python3"
  }
 },
 "nbformat": 4,
 "nbformat_minor": 2
}
